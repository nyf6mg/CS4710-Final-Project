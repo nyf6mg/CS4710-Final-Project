{
 "cells": [
  {
   "cell_type": "markdown",
   "metadata": {
    "id": "4pC2zhxoh28e"
   },
   "source": [
    "# Step 1: Import Necessary Libraries"
   ]
  },
  {
   "cell_type": "code",
   "execution_count": null,
   "metadata": {
    "id": "kslJkw6oh8Il"
   },
   "outputs": [],
   "source": [
    "# We'll use `pandas` to create and manipulate the DataFrame, and `json` to save the final data in JSON format.\n",
    "import pandas as pd\n",
    "import json"
   ]
  },
  {
   "cell_type": "markdown",
   "metadata": {
    "id": "lmP06GXziG_a"
   },
   "source": [
    "# Step 2: Load and parse the file"
   ]
  },
  {
   "cell_type": "code",
   "execution_count": null,
   "metadata": {
    "colab": {
     "base_uri": "https://localhost:8080/",
     "height": 1000
    },
    "id": "nsSBIEzhiM1_",
    "outputId": "1b69659c-2780-4514-fa9e-373157df3ff4"
   },
   "outputs": [
    {
     "ename": "",
     "evalue": "",
     "output_type": "error",
     "traceback": [
      "\u001b[1;31mRunning cells with 'Python 3.9.10' requires the ipykernel package.\n",
      "\u001b[1;31mRun the following command to install 'ipykernel' into the Python environment. \n",
      "\u001b[1;31mCommand: '/Users/viduragaram/.pyenv/versions/3.9.10/bin/python -m pip install ipykernel -U --force-reinstall'"
     ]
    }
   ],
   "source": [
    "file_path = 'msd_genre_classification.cls'  # Replace with your actual file path\n",
    "\n",
    "# Read the file into a list of dictionaries based on the header format\n",
    "data = []\n",
    "with open(file_path, 'r') as file:\n",
    "    for line in file:\n",
    "        # Skip comments and empty lines\n",
    "        if line.startswith('#') or not line.strip():\n",
    "            continue\n",
    "        # Split each line into fields\n",
    "        fields = line.strip().split('\\t')\n",
    "\n",
    "        # Parse the fields into respective columns\n",
    "        track_id = fields[0]\n",
    "        seed_genre = fields[1]\n",
    "        num_labels = int(fields[2])\n",
    "        labels = fields[3:]\n",
    "\n",
    "        # Group labels and their strengths\n",
    "        label_data = {labels[i]: float(labels[i+1]) for i in range(0, len(labels), 2)}\n",
    "\n",
    "        # Append data as a dictionary\n",
    "        data.append({\n",
    "            'track_id': track_id,\n",
    "            'seed_genre': seed_genre,\n",
    "            'num_labels': num_labels,\n",
    "            'labels': label_data\n",
    "        })\n",
    "\n",
    "# Convert the parsed data into a DataFrame\n",
    "df = pd.DataFrame(data)\n",
    "print(\"Initial DataFrame:\")\n",
    "print(len(df))\n",
    "df.head()"
   ]
  },
  {
   "cell_type": "markdown",
   "metadata": {
    "id": "bH7AIMfMiv5k"
   },
   "source": [
    "# Step 3: Identify and sort genres by num_labels\n"
   ]
  },
  {
   "cell_type": "code",
   "execution_count": 18,
   "metadata": {
    "colab": {
     "base_uri": "https://localhost:8080/"
    },
    "id": "Rnlt86JVjvm-",
    "outputId": "48225c5b-1be5-4965-d424-d7147bcacc74"
   },
   "outputs": [
    {
     "name": "stdout",
     "output_type": "stream",
     "text": [
      "677038\n",
      "Number of genres: 6152\n",
      "Number of genres with counts under 50: 6024\n",
      "Number of genres with counts above 10,000: 14\n",
      "Genre Counts:\n",
      " seed_genre\n",
      "Rock                      261242\n",
      "Pop                        57210\n",
      "Electronic                 38235\n",
      "Jazz                       37844\n",
      "Hip-Hop                    31580\n",
      "                           ...  \n",
      "Psychedlic Folk-Rock           1\n",
      "Psychedelic Blues Rock         1\n",
      "Suave                          1\n",
      "Alternative - magyar           1\n",
      "All                            1\n",
      "Name: count, Length: 6152, dtype: int64\n"
     ]
    }
   ],
   "source": [
    "# This will allow us to filter genres with sufficient data later.\n",
    "print(len(df))\n",
    "genre_counts = df['seed_genre'].value_counts()\n",
    "num_genres = len(genre_counts)\n",
    "num_genres_under_50 = (genre_counts < 50).sum()\n",
    "num_genres_above_10000 = (genre_counts > 10_000).sum()\n",
    "print(f\"Number of genres: {num_genres}\")\n",
    "print(f\"Number of genres with counts under 50: {num_genres_under_50}\")\n",
    "print(f\"Number of genres with counts above 10,000: {num_genres_above_10000}\")\n",
    "print(\"Genre Counts:\\n\", genre_counts)"
   ]
  },
  {
   "cell_type": "markdown",
   "metadata": {
    "id": "aDUqbPqsi3Di"
   },
   "source": [
    "# Step 4: Filter categories with low couts or unuseal genres"
   ]
  },
  {
   "cell_type": "code",
   "execution_count": 39,
   "metadata": {
    "colab": {
     "base_uri": "https://localhost:8080/"
    },
    "id": "oZTgLS8XjwKb",
    "outputId": "0ed86ebd-dcc4-4cca-f680-47060d7bce2c"
   },
   "outputs": [
    {
     "name": "stdout",
     "output_type": "stream",
     "text": [
      "Number of Big Genres: 14\n",
      "Filtered DataFrame rows for Big Genres: 574269\n",
      "Sample of Filtered DataFrame:\n",
      "             track_id seed_genre  num_labels  \\\n",
      "0  TRAAAAK128F9318786       Rock         201   \n",
      "1  TRAAAAV128F421A322       Rock           8   \n",
      "2  TRAAAAW128F429D538    Hip-Hop         133   \n",
      "3  TRAAAAY128F42A73F0      World           1   \n",
      "4  TRAAABD128F429CF47       Rock          40   \n",
      "\n",
      "                                              labels  \n",
      "0  {'Rock': 0.6766169, 'Metal': 0.09950249, 'Hard...  \n",
      "1                         {'Rock': 0.5, 'Punk': 0.5}  \n",
      "2  {'Hip-Hop': 0.48872182, 'Hip-Hop/Rap': 0.27067...  \n",
      "3                                     {'World': 1.0}  \n",
      "4  {'Rock': 0.4, 'Rock/Pop': 0.15, 'Oldies': 0.1,...  \n",
      "Total genres: 6152\n",
      "Genres with counts under 50: 6024\n",
      "Genres with counts above 10000: 14\n"
     ]
    }
   ],
   "source": [
    "# Threshold for \"big genres\"\n",
    "# 10,000 = 14 Genres , 11,000 = 11 Genres, 13,000 = 9\n",
    "big_genre_threshold = 10_000\n",
    "\n",
    "# Count occurrences of each seed genre\n",
    "genre_counts = df['seed_genre'].value_counts()\n",
    "\n",
    "# Filter big genres\n",
    "big_genres = genre_counts[genre_counts > big_genre_threshold].index\n",
    "big_genres_df = df[df['seed_genre'].isin(big_genres)]\n",
    "\n",
    "print(f\"Number of Big Genres: {len(big_genres)}\")\n",
    "print(f\"Filtered DataFrame rows for Big Genres: {len(big_genres_df)}\")\n",
    "print(\"Sample of Filtered DataFrame:\")\n",
    "print(big_genres_df.head())\n",
    "\n",
    "# Validate the genre counts\n",
    "print(f\"Total genres: {len(genre_counts)}\")\n",
    "print(f\"Genres with counts under 50: {(genre_counts < 50).sum()}\")\n",
    "print(f\"Genres with counts above {big_genre_threshold}: {(genre_counts > big_genre_threshold).sum()}\")"
   ]
  },
  {
   "cell_type": "markdown",
   "metadata": {
    "id": "DFmhVB3mi8V-"
   },
   "source": [
    "# Step 5: Remove songs with less than 10 user labels"
   ]
  },
  {
   "cell_type": "markdown",
   "metadata": {
    "id": "8saM23xOcK3d"
   },
   "source": []
  },
  {
   "cell_type": "code",
   "execution_count": 40,
   "metadata": {
    "colab": {
     "base_uri": "https://localhost:8080/"
    },
    "id": "hVdIp6_OjwtU",
    "outputId": "510da5f2-3e61-4d82-9b7f-59e122f57521"
   },
   "outputs": [
    {
     "name": "stdout",
     "output_type": "stream",
     "text": [
      "Filtered DataFrame with songs having 5 or more labels: 339099 songs\n",
      "Filtered DataFrame after removing 'other' genre: 339099 songs\n",
      "Sample of the filtered DataFrame:\n",
      "             track_id seed_genre  num_labels  \\\n",
      "0  TRAAAAK128F9318786       Rock         201   \n",
      "2  TRAAAAW128F429D538    Hip-Hop         133   \n",
      "4  TRAAABD128F429CF47       Rock          40   \n",
      "8  TRAAAED128E0783FAB       Jazz        2227   \n",
      "9  TRAAAEF128F4273421       Rock         181   \n",
      "\n",
      "                                              labels  \n",
      "0  {'Rock': 0.6766169, 'Metal': 0.09950249, 'Hard...  \n",
      "2  {'Hip-Hop': 0.48872182, 'Hip-Hop/Rap': 0.27067...  \n",
      "4  {'Rock': 0.4, 'Rock/Pop': 0.15, 'Oldies': 0.1,...  \n",
      "8  {'Jazz': 0.6897171, 'Pop': 0.061517738, 'Gener...  \n",
      "9  {'Rock': 0.45303866, 'New Wave': 0.13812155, '...  \n"
     ]
    }
   ],
   "source": [
    "# Filter to include only songs with 10 or more labels\n",
    "min_song_threshold = 10\n",
    "big_genres_df = big_genres_df[big_genres_df['num_labels'] >= min_song_threshold]\n",
    "print(f\"Filtered DataFrame with songs having 5 or more labels: {big_genres_df.shape[0]} songs\")\n",
    "\n",
    "# Remove songs with 'other' as the seed genre (if any)\n",
    "explicit_genre_exclude = ['other']\n",
    "big_genres_df = big_genres_df[big_genres_df['seed_genre'].isin(explicit_genre_exclude) == False]\n",
    "print(f\"Filtered DataFrame after removing 'other' genre: {big_genres_df.shape[0]} songs\")\n",
    "\n",
    "# Display a sample of the filtered DataFrame\n",
    "print(\"Sample of the filtered DataFrame:\")\n",
    "print(big_genres_df.head())\n"
   ]
  },
  {
   "cell_type": "markdown",
   "metadata": {
    "id": "UATNegRdcLdf"
   },
   "source": [
    "# Step 6: Clean the labels for each songs (Remove low probability and unused genres)"
   ]
  },
  {
   "cell_type": "code",
   "execution_count": 41,
   "metadata": {
    "colab": {
     "base_uri": "https://localhost:8080/"
    },
    "id": "1wtKfhoScXxa",
    "outputId": "78bfbf43-ead3-4e6f-c88b-1f5d19c1c544"
   },
   "outputs": [
    {
     "name": "stdout",
     "output_type": "stream",
     "text": [
      "DataFrame after cleaning labels: 327066 songs\n",
      "Sample of cleaned labels:\n",
      "             track_id                                   labels\n",
      "0  TRAAAAK128F9318786                      {'Rock': 0.6766169}\n",
      "2  TRAAAAW128F429D538                  {'Hip-Hop': 0.48872182}\n",
      "4  TRAAABD128F429CF47              {'Rock': 0.4, 'Pop': 0.075}\n",
      "8  TRAAAED128E0783FAB  {'Jazz': 0.6897171, 'Pop': 0.061517738}\n",
      "9  TRAAAEF128F4273421   {'Rock': 0.45303866, 'Pop': 0.0718232}\n"
     ]
    }
   ],
   "source": [
    "# Define a probability threshold for keeping genres\n",
    "probability_threshold = 0.01\n",
    "\n",
    "def clean_labels(label_data: dict, threshold: float, valid_genres: list[str]):\n",
    "    \"\"\"\n",
    "    Remove low-probability genres from the label dictionary.\n",
    "\n",
    "    Parameters:\n",
    "        label_data (dict): Dictionary of genres and their probabilities.\n",
    "        threshold (float): Minimum probability to retain a genre.\n",
    "        valid_genres (list[str]): List of valid genres to retain.\n",
    "\n",
    "    Returns:\n",
    "        dict: Cleaned label dictionary with high-probability genres.\n",
    "    \"\"\"\n",
    "    return {genre: prob for genre, prob in label_data.items() if prob >= threshold and genre in valid_genres}\n",
    "\n",
    "# Apply the cleaning function to the 'labels' column\n",
    "big_genres_df['labels'] = big_genres_df['labels'].apply(\n",
    "    clean_labels,\n",
    "    threshold=probability_threshold,\n",
    "    valid_genres=list(big_genres)\n",
    ")\n",
    "\n",
    "# Remove rows where the cleaned 'labels' dictionary is empty (i.e., no genres meet the threshold)\n",
    "big_genres_df = big_genres_df[big_genres_df['labels'].apply(bool)]\n",
    "\n",
    "print(f\"DataFrame after cleaning labels: {big_genres_df.shape[0]} songs\")\n",
    "print(\"Sample of cleaned labels:\")\n",
    "print(big_genres_df[['track_id', 'labels']].head())\n"
   ]
  },
  {
   "cell_type": "markdown",
   "metadata": {},
   "source": []
  },
  {
   "cell_type": "code",
   "execution_count": 2,
   "metadata": {},
   "outputs": [
    {
     "ename": "ModuleNotFoundError",
     "evalue": "No module named 'pretty_midi'",
     "output_type": "error",
     "traceback": [
      "\u001b[0;31m---------------------------------------------------------------------------\u001b[0m",
      "\u001b[0;31mModuleNotFoundError\u001b[0m                       Traceback (most recent call last)",
      "Cell \u001b[0;32mIn[2], line 4\u001b[0m\n\u001b[1;32m      2\u001b[0m \u001b[38;5;28;01mimport\u001b[39;00m \u001b[38;5;21;01mjson\u001b[39;00m\n\u001b[1;32m      3\u001b[0m \u001b[38;5;28;01mimport\u001b[39;00m \u001b[38;5;21;01mshutil\u001b[39;00m\n\u001b[0;32m----> 4\u001b[0m \u001b[38;5;28;01mimport\u001b[39;00m \u001b[38;5;21;01mpretty_midi\u001b[39;00m\n\u001b[1;32m      6\u001b[0m \u001b[38;5;66;03m# Paths\u001b[39;00m\n\u001b[1;32m      7\u001b[0m aligned_folder \u001b[38;5;241m=\u001b[39m \u001b[38;5;124m'\u001b[39m\u001b[38;5;124m1lakh_song_dataset_original\u001b[39m\u001b[38;5;124m'\u001b[39m\n",
      "\u001b[0;31mModuleNotFoundError\u001b[0m: No module named 'pretty_midi'"
     ]
    }
   ],
   "source": [
    "import os\n",
    "import json\n",
    "import shutil\n",
    "import pretty_midi\n",
    "\n",
    "# Paths\n",
    "aligned_folder = '1lakh_song_dataset_original'\n",
    "match_scores_path = 'match_scores.json'\n",
    "destination_folder = '1lakh_song_dataset_cleaned'"
   ]
  },
  {
   "cell_type": "markdown",
   "metadata": {
    "id": "p24Q1Rhti_Nx"
   },
   "source": [
    "# Step 7: Save the cleaned data to JSON and .cls file"
   ]
  },
  {
   "cell_type": "code",
   "execution_count": 42,
   "metadata": {
    "colab": {
     "base_uri": "https://localhost:8080/"
    },
    "id": "0lGBSyeVjxRC",
    "outputId": "4ea8f81d-fc29-4c8e-fd0b-4d327d660131"
   },
   "outputs": [
    {
     "name": "stdout",
     "output_type": "stream",
     "text": [
      "Data saved to cleaned_data.json\n",
      "Data saved to cleaned_data.cls\n"
     ]
    }
   ],
   "source": [
    "# We'll save the final DataFrame in two formats as requested.\n",
    "json_output_path = 'cleaned_data.json'\n",
    "with open(json_output_path, 'w') as json_file:\n",
    "    json.dump(big_genres_df.to_dict(orient='records'), json_file, indent=2)\n",
    "print(f\"Data saved to {json_output_path}\")\n",
    "\n",
    "# CLS format (tab-separated as per original format)\n",
    "cls_output_path = 'cleaned_data.cls'\n",
    "with open(cls_output_path, 'w') as cls_file:\n",
    "    for _, row in big_genres_df.iterrows():\n",
    "        line = f\"{row['track_id']}\\t{row['seed_genre']}\\t{row['num_labels']}\"\n",
    "        for label, strength in row['labels'].items():\n",
    "            line += f\"\\t{label}\\t{strength}\"\n",
    "        cls_file.write(line + '\\n')\n",
    "print(f\"Data saved to {cls_output_path}\")"
   ]
  }
 ],
 "metadata": {
  "colab": {
   "provenance": []
  },
  "kernelspec": {
   "display_name": "Python 3",
   "name": "python3"
  },
  "language_info": {
   "codemirror_mode": {
    "name": "ipython",
    "version": 3
   },
   "file_extension": ".py",
   "mimetype": "text/x-python",
   "name": "python",
   "nbconvert_exporter": "python",
   "pygments_lexer": "ipython3",
   "version": "3.9.10"
  }
 },
 "nbformat": 4,
 "nbformat_minor": 0
}
