{
 "cells": [
  {
   "cell_type": "code",
   "execution_count": 5,
   "metadata": {},
   "outputs": [],
   "source": [
    "import json\n",
    "import os\n",
    "import glob\n",
    "\n",
    "base_directory = '.\\lmd_matched_clean'\n",
    "# Specify the path to your JSON file\n",
    "file_path = '.\\cleaned_data.json'\n",
    "new_file = '.\\wrong_entries_removed.json'\n",
    "\n",
    "# Open and read the JSON file\n",
    "with open(file_path, 'r') as file:\n",
    "    base_info = json.load(file)\n",
    "    \n",
    "new_file = open(new_file, 'w+')\n",
    "final = list()\n",
    "\n",
    "# Iterate over each entry in the JSON data\n",
    "# Remove list indices to parse the whole file (will take a long time)\n",
    "for entry in base_info[:10000]:\n",
    "    # Extract the seed_genre and track_id\n",
    "    seed_genre = entry['seed_genre']\n",
    "    track_id = entry['track_id']\n",
    "\n",
    "    # Construct the MIDI file path\n",
    "    midi_dir = os.path.join(base_directory, seed_genre)\n",
    "    pattern = os.path.join(midi_dir, f\"{track_id}*.mid\")\n",
    "    matching_files = glob.glob(pattern)\n",
    "\n",
    "    if len(matching_files) > 0:\n",
    "        final.append(entry)\n",
    "        \n",
    "\n",
    "new_file.write(json.dumps(final))\n",
    "new_file.close()"
   ]
  }
 ],
 "metadata": {
  "kernelspec": {
   "display_name": "venv",
   "language": "python",
   "name": "python3"
  },
  "language_info": {
   "codemirror_mode": {
    "name": "ipython",
    "version": 3
   },
   "file_extension": ".py",
   "mimetype": "text/x-python",
   "name": "python",
   "nbconvert_exporter": "python",
   "pygments_lexer": "ipython3",
   "version": "3.11.4"
  }
 },
 "nbformat": 4,
 "nbformat_minor": 2
}
