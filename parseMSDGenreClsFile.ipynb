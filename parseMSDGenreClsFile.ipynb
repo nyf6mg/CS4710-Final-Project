{
 "cells": [
  {
   "cell_type": "markdown",
   "metadata": {},
   "source": [
    "# Parsing MIDI functions"
   ]
  },
  {
   "cell_type": "code",
   "execution_count": 97,
   "metadata": {},
   "outputs": [],
   "source": [
    "# Basic Metadata\n",
    "def get_midi_basic_metadata(midi, filepath):\n",
    "    metadata = {\n",
    "        \"genre\": filepath_to_genre[filepath],\n",
    "        \"number_of_tracks\": len(midi.instruments),\n",
    "        \"duration_seconds\": midi.get_end_time(),\n",
    "        \"file_size_kb\": os.path.getsize(filepath) / 1024,\n",
    "    }\n",
    "    return metadata\n",
    "    \n",
    "def get_midi_musical_features(midi, filepath):\n",
    "    features = {\n",
    "        \"tempo\": midi.estimate_tempo(),\n",
    "        \"key_signatures\": [str(key) for key in midi.key_signature_changes],\n",
    "        \"time_signatures\": [str(ts) for ts in midi.time_signature_changes],\n",
    "        \"pitch_range\": (\n",
    "            min(note.pitch for instrument in midi.instruments for note in instrument.notes),\n",
    "            max(note.pitch for instrument in midi.instruments for note in instrument.notes),\n",
    "        ),\n",
    "    }\n",
    "    return features\n",
    "    \n",
    "    \n",
    "def get_midi_performance_features(midi, filepath):\n",
    "    performance = {\n",
    "        \"velocity_range\": (\n",
    "            min(note.velocity for instrument in midi.instruments for note in instrument.notes),\n",
    "            max(note.velocity for instrument in midi.instruments for note in instrument.notes),\n",
    "        ),\n",
    "        \"average_velocity\": sum(\n",
    "            note.velocity for instrument in midi.instruments for note in instrument.notes\n",
    "        ) / sum(len(instrument.notes) for instrument in midi.instruments),\n",
    "        \"note_density\": sum(len(instrument.notes) for instrument in midi.instruments) / midi.get_end_time(),\n",
    "    }\n",
    "    return performance\n",
    "\n",
    "def get_midi_structural_features(midi, filepath):\n",
    "    sections = {\n",
    "        \"time_signature_changes\": len(midi.time_signature_changes),\n",
    "        \"tempo_changes\": len(midi.get_tempo_changes()[0]),  # Number of tempo changes\n",
    "        \"instrument_usage\": {instrument.name: len(instrument.notes) for instrument in midi.instruments},\n",
    "    }\n",
    "    return sections\n"
   ]
  },
  {
   "cell_type": "code",
   "execution_count": null,
   "metadata": {
    "tags": []
   },
   "outputs": [
    {
     "name": "stdout",
     "output_type": "stream",
     "text": [
      "Error processing lmd_matched_clean/Hip-Hop/TRDKSKE128F930A28A_5711e0cb2d8d94fa98bcc1a09d71b70a_Hip-Hop.mid: data byte must be in range 0..127\n",
      "Error processing lmd_matched_clean/Hip-Hop/TRGSSCI128F933D9C1_c9f0f2df33e5cc7623bfd2351654bad4_Hip-Hop.mid: data byte must be in range 0..127\n",
      "Error processing lmd_matched_clean/Hip-Hop/TRNROKK128F9311248_0a1955f9b201d9d391d1a7ea5f812e7a_Hip-Hop.mid: data byte must be in range 0..127\n",
      "Error processing lmd_matched_clean/Hip-Hop/TRLZTRZ128F429C1D5_827af6bbff51012a0ea35227aa4f877a_Hip-Hop.mid: Could not decode key with 5 flats and mode 255\n",
      "Error processing lmd_matched_clean/Hip-Hop/TRDKSKE128F930A28A_123bed39220cac8584d041f39f8ea82e_Hip-Hop.mid: \n",
      "Error processing lmd_matched_clean/Hip-Hop/TRWYVBA128F424D7FC_408cc41309896762473442629f574226_Hip-Hop.mid: data byte must be in range 0..127\n",
      "Error processing lmd_matched_clean/Hip-Hop/TRRMSGD128F425D56B_7d36cb4fb85945912f1919237ba36f2b_Hip-Hop.mid: \n",
      "Error processing lmd_matched_clean/Hip-Hop/TRCQDMP128F42483E0_9f79f5113aa40a71564937281bcc077e_Hip-Hop.mid: data byte must be in range 0..127\n",
      "Error processing lmd_matched_clean/Hip-Hop/TRDKSKE128F930A28A_c986654bf15e750d0f3fb5c839459737_Hip-Hop.mid: data byte must be in range 0..127\n",
      "Error processing lmd_matched_clean/Hip-Hop/TRDKSKE128F930A28A_00e6d5785a99002bc645765b8851e9ff_Hip-Hop.mid: data byte must be in range 0..127\n",
      "Error processing lmd_matched_clean/Hip-Hop/TRCQDMP128F42483E0_27e2424cc057f3c9fb4fedc2f62d6c40_Hip-Hop.mid: data byte must be in range 0..127\n",
      "Error processing lmd_matched_clean/Pop/TRWXKVJ12903CD9CE4_b549e5708e329ed04e73187f8354f775_Pop.mid: data byte must be in range 0..127\n",
      "Error processing lmd_matched_clean/Pop/TRZJOSE128F42380BC_e62ddc9e98981c08a62be56748e58fe5_Pop.mid: Could not decode key with 3 flats and mode 255\n",
      "Error processing lmd_matched_clean/Pop/TRBQUUG128F932A699_2cd18f27dc3e386be27b865ff59ed13f_Pop.mid: data byte must be in range 0..127\n",
      "Error processing lmd_matched_clean/Pop/TRYIWQX128F92D536A_c39bd7168f2bfad44a856ffeba191243_Pop.mid: \n",
      "Error processing lmd_matched_clean/Pop/TRVXMBD128F425F2F1_3294b53156fc171f6b659c134104c5d9_Pop.mid: \n",
      "Error processing lmd_matched_clean/Pop/TRDPWHW128F42BCA73_7b66864dbb2084caf5ffc71f15bd2f7b_Pop.mid: data byte must be in range 0..127\n",
      "Error processing lmd_matched_clean/Pop/TRIINEP12903CE57F9_a3e870fd395c91d8f2101b6a9fc280f8_Pop.mid: data byte must be in range 0..127\n",
      "Error processing lmd_matched_clean/Pop/TRPEAEE128F146DCC8_bea02ea515ab602016d2e6892798f249_Pop.mid: data byte must be in range 0..127\n",
      "Error processing lmd_matched_clean/Pop/TRBMXRE128F428F8E7_f405900fe143f315fb9b43c1e9f72275_Pop.mid: Could not decode key with 3 flats and mode 255\n",
      "Error processing lmd_matched_clean/Pop/TRIJOKZ12903CCDAB7_539e5566a50e16fc46c35f118ae3eca8_Pop.mid: \n",
      "Error processing lmd_matched_clean/Pop/TRHWCPE128F4265BA5_0b0812979e33c132046d24575ff810cf_Pop.mid: data byte must be in range 0..127\n",
      "Error processing lmd_matched_clean/Pop/TRONKXP128F428CAF6_987371c00112ecbbc6c39e483e91bfc5_Pop.mid: data byte must be in range 0..127\n",
      "Error processing lmd_matched_clean/Pop/TRBZWYR128F14850B1_ff60a183855cade98bb3faaf0bc77d32_Pop.mid: data byte must be in range 0..127\n",
      "Error processing lmd_matched_clean/Pop/TRNHVGJ128F42AE471_987371c00112ecbbc6c39e483e91bfc5_Pop.mid: data byte must be in range 0..127\n",
      "Error processing lmd_matched_clean/Pop/TRUCBFC128F92F750A_987371c00112ecbbc6c39e483e91bfc5_Pop.mid: data byte must be in range 0..127\n",
      "Error processing lmd_matched_clean/Pop/TRSYOHO128F4299957_77949f76eff8ce6d3bd6693fa55c32eb_Pop.mid: \n",
      "Error processing lmd_matched_clean/Pop/TRBPETA128F92FDDA6_c0b71ff90c7b2e642624071a9c6156d3_Pop.mid: data byte must be in range 0..127\n",
      "Error processing lmd_matched_clean/Pop/TRBLHNN128E0792486_6677ffcd7561bc9dd8146e48046f5400_Pop.mid: data byte must be in range 0..127\n",
      "Error processing lmd_matched_clean/Pop/TRSNYXE128F42AE163_f405900fe143f315fb9b43c1e9f72275_Pop.mid: Could not decode key with 3 flats and mode 255\n",
      "Error processing lmd_matched_clean/Pop/TRFQDNW128F92E6646_539e5566a50e16fc46c35f118ae3eca8_Pop.mid: \n",
      "Error processing lmd_matched_clean/Pop/TRHFFOC128F92F901F_9475d9e1cd8cc716337c50a34a6b2bfb_Pop.mid: data byte must be in range 0..127\n",
      "Error processing lmd_matched_clean/Pop/TRPDHIY128F4275767_3aff3b232365ac86dfd561a0efdb0a2e_Pop.mid: data byte must be in range 0..127\n",
      "Error processing lmd_matched_clean/Pop/TRCOTFH128E078C611_698c837403d047dba72e2531618a13d4_Pop.mid: data byte must be in range 0..127\n",
      "Error processing lmd_matched_clean/Pop/TRLNQGI128F92D5D37_ca1c7906ed80ade81206de8c2ebf1d89_Pop.mid: data byte must be in range 0..127\n",
      "Error processing lmd_matched_clean/Pop/TRRKFEP128F42AD604_b022f1d8bea4c8a4879d642faffa65dd_Pop.mid: \n",
      "Error processing lmd_matched_clean/Pop/TRVXMBD128F425F2F1_04fba9bfc79826e9dc9c0e25918c46eb_Pop.mid: \n",
      "Error processing lmd_matched_clean/Pop/TRIFIGH128F4283C1D_b022f1d8bea4c8a4879d642faffa65dd_Pop.mid: \n",
      "Error processing lmd_matched_clean/Pop/TRJTZTU128E078F13F_8ba74ff7868d89ac132d222f49a863a4_Pop.mid: data byte must be in range 0..127\n",
      "Error processing lmd_matched_clean/Pop/TRONXXY128F92DD510_fdf6f5abc9a87c4af2028aa3aa5a2a08_Pop.mid: data byte must be in range 0..127\n",
      "Error processing lmd_matched_clean/Pop/TRBLIVP128F92F16B5_fdf6f5abc9a87c4af2028aa3aa5a2a08_Pop.mid: data byte must be in range 0..127\n",
      "Error processing lmd_matched_clean/Pop/TRRKEMC128F932A435_c0b71ff90c7b2e642624071a9c6156d3_Pop.mid: data byte must be in range 0..127\n",
      "Error processing lmd_matched_clean/Pop/TRTHSQM128F92F85D7_64642693aef9531c99b591c387af9447_Pop.mid: data byte must be in range 0..127\n",
      "Error processing lmd_matched_clean/Pop/TRRGHPO128F429253D_de4496eb66ae5037c8166ac51b09dbab_Pop.mid: Could not decode key with 2 flats and mode 255\n",
      "Error processing lmd_matched_clean/Pop/TRBAOSL12903CA4519_c0b71ff90c7b2e642624071a9c6156d3_Pop.mid: data byte must be in range 0..127\n",
      "Error processing lmd_matched_clean/Pop/TRPBDFC128F4259FBB_75aa9bfa965f096ce7cff2cd0d68fc98_Pop.mid: data byte must be in range 0..127\n",
      "Error processing lmd_matched_clean/Pop/TRPUFXU128F14745E9_a259876228f5e5f5115849118391d5a0_Pop.mid: data byte must be in range 0..127\n",
      "Error processing lmd_matched_clean/Pop/TRHXYVQ128F92EB50C_8ba74ff7868d89ac132d222f49a863a4_Pop.mid: data byte must be in range 0..127\n",
      "Error processing lmd_matched_clean/Pop/TRECRMW128F9321279_9f79f5113aa40a71564937281bcc077e_Pop.mid: data byte must be in range 0..127\n",
      "Error processing lmd_matched_clean/Pop/TRCFQHK12903CB0D57_616a4d723dae184bba3ac6a102c60bb9_Pop.mid: data byte must be in range 0..127\n",
      "Error processing lmd_matched_clean/Pop/TRMSAZU128F428CAF3_987371c00112ecbbc6c39e483e91bfc5_Pop.mid: data byte must be in range 0..127\n",
      "Error processing lmd_matched_clean/Pop/TRBROST128F148C641_583bdea77d591e6f9c97033cd4c6bf6c_Pop.mid: data byte must be in range 0..127\n",
      "Error processing lmd_matched_clean/Pop/TROPTMU128F92E616C_bf2c5319603b7e00cee3b4f7dd13d8cd_Pop.mid: data byte must be in range 0..127\n",
      "Error processing lmd_matched_clean/Pop/TRGCHLH12903CB7352_9604b32a292590391b10b87516816f51_Pop.mid: data byte must be in range 0..127\n",
      "Error processing lmd_matched_clean/Pop/TRINVUW128F92C2EF7_b022f1d8bea4c8a4879d642faffa65dd_Pop.mid: \n",
      "Error processing lmd_matched_clean/Pop/TRCPDJI128F147E6C5_b9a83135f249f3d78ee4146a62ff36a7_Pop.mid: data byte must be in range 0..127\n",
      "Error processing lmd_matched_clean/Pop/TRHOGMB128F1481949_a060f961557dab7031d0070b8b794394_Pop.mid: data byte must be in range 0..127\n",
      "Error processing lmd_matched_clean/Pop/TRZDCZN128F429C352_0937db5a3fb5b18943c181003585dc53_Pop.mid: \n",
      "Error processing lmd_matched_clean/Pop/TRBROST128F148C641_b7318ea7829ac9c164d5e6b30841604d_Pop.mid: data byte must be in range 0..127\n",
      "Error processing lmd_matched_clean/Pop/TRVGRHX128F1493E4F_83df6ee3059436b72f62099cdb5c96ca_Pop.mid: Could not decode key with 1 flats and mode 255\n",
      "Error processing lmd_matched_clean/Pop/TRLKWLF128F42650F5_00e6d5785a99002bc645765b8851e9ff_Pop.mid: data byte must be in range 0..127\n",
      "Error processing lmd_matched_clean/Pop/TRWXDZF128F92F59A3_c0b71ff90c7b2e642624071a9c6156d3_Pop.mid: data byte must be in range 0..127\n",
      "Error processing lmd_matched_clean/Pop/TRRCOVO12903CA444B_0937db5a3fb5b18943c181003585dc53_Pop.mid: \n",
      "Error processing lmd_matched_clean/Pop/TRIYRFI128F42AF800_f405900fe143f315fb9b43c1e9f72275_Pop.mid: Could not decode key with 3 flats and mode 255\n",
      "Error processing lmd_matched_clean/Pop/TRVAHQZ12903CE26DD_987371c00112ecbbc6c39e483e91bfc5_Pop.mid: data byte must be in range 0..127\n",
      "Error processing lmd_matched_clean/Pop/TRWKMKV128E078A7D8_4e5054f581f29ac6083de43dff5610af_Pop.mid: Could not decode key with 2 flats and mode 255\n",
      "Error processing lmd_matched_clean/Pop/TREMSHR128E0786F66_47709a045385056f8bdb5529c786a833_Pop.mid: data byte must be in range 0..127\n",
      "Error processing lmd_matched_clean/Pop/TRUJONK12903C96987_2cdb25a9abc795d12679c3f6abc2b212_Pop.mid: data byte must be in range 0..127\n",
      "Error processing lmd_matched_clean/Pop/TRJHZIC128F426E41A_2d5f3ae1620e208272d7c030d8413672_Pop.mid: data byte must be in range 0..127\n",
      "Error processing lmd_matched_clean/Pop/TRHKEOQ128F425A1B2_c7322533636b55d8eb7feb62bb7a2256_Pop.mid: \n",
      "Error processing lmd_matched_clean/Pop/TRFNSIF128E078F147_d1977d0fbb16add35a506b762a9b19be_Pop.mid: data byte must be in range 0..127\n",
      "Error processing lmd_matched_clean/Pop/TRUONWL128F425F670_f405900fe143f315fb9b43c1e9f72275_Pop.mid: Could not decode key with 3 flats and mode 255\n",
      "Error processing lmd_matched_clean/Pop/TRZJQHD128F425C17E_c0b71ff90c7b2e642624071a9c6156d3_Pop.mid: data byte must be in range 0..127\n",
      "Error processing lmd_matched_clean/Pop/TRHQMUZ128F428EBCE_143a8443036605875d21dc2792401f8e_Pop.mid: data byte must be in range 0..127\n",
      "Error processing lmd_matched_clean/Pop/TRLYLJJ128F428FD51_2a90cea2f6fba1b0607d98ae7be8af73_Pop.mid: Could not decode key with 2 flats and mode 255\n",
      "Error processing lmd_matched_clean/Pop/TRLFPTS128F428A8E2_7a740d9a539336968dcff1f324f2b874_Pop.mid: data byte must be in range 0..127\n",
      "Error processing lmd_matched_clean/Pop/TROLWZU128E078634D_93de7d9747fa075dd878880eb3c2651f_Pop.mid: data byte must be in range 0..127\n",
      "Error processing lmd_matched_clean/Pop/TRAMTGA128F4274C93_2d5f3ae1620e208272d7c030d8413672_Pop.mid: data byte must be in range 0..127\n",
      "Error processing lmd_matched_clean/Pop/TREESFE128F92EB23E_539e5566a50e16fc46c35f118ae3eca8_Pop.mid: \n",
      "Error processing lmd_matched_clean/Pop/TRHTOZM128F425E5AF_fdf6f5abc9a87c4af2028aa3aa5a2a08_Pop.mid: data byte must be in range 0..127\n",
      "Error processing lmd_matched_clean/Pop/TRQAFIC128F1491A98_cfdc20d17d7ae95f3493dbf1c3177148_Pop.mid: data byte must be in range 0..127\n",
      "Error processing lmd_matched_clean/Pop/TRGRPLA12903CD3EBA_8fd4d491cd3cbea45d20c1887eaf6e70_Pop.mid: \n",
      "Error processing lmd_matched_clean/Pop/TRFRTMM12903CB3A6F_36be514cae1370e9d771710158d7551f_Pop.mid: data byte must be in range 0..127\n",
      "Error processing lmd_matched_clean/Pop/TRBCVWC128F932F321_987371c00112ecbbc6c39e483e91bfc5_Pop.mid: data byte must be in range 0..127\n",
      "Error processing lmd_matched_clean/Pop/TREXXOS128F4265A98_0a1955f9b201d9d391d1a7ea5f812e7a_Pop.mid: data byte must be in range 0..127\n",
      "Error processing lmd_matched_clean/Pop/TRFELTG128F1456CEB_75aa9bfa965f096ce7cff2cd0d68fc98_Pop.mid: data byte must be in range 0..127\n",
      "Error processing lmd_matched_clean/Pop/TRNCDMB128F933AD42_0bb50319008d65fb1584dc5be293d9c2_Pop.mid: data byte must be in range 0..127\n",
      "Error processing lmd_matched_clean/Pop/TRXSYBQ128F42BAA1F_2a90cea2f6fba1b0607d98ae7be8af73_Pop.mid: Could not decode key with 2 flats and mode 255\n",
      "Error processing lmd_matched_clean/Pop/TRCFTCL128F92CF85E_8fd4d491cd3cbea45d20c1887eaf6e70_Pop.mid: \n",
      "Error processing lmd_matched_clean/Pop/TRFZQXL128F930924A_df0be0552b2ca76f29c2ef1a020a1d25_Pop.mid: data byte must be in range 0..127\n",
      "Error processing lmd_matched_clean/Pop/TRIGXQN128E078FEC7_fa806fedeeef576637c1d5bc63669db5_Pop.mid: data byte must be in range 0..127\n",
      "Error processing lmd_matched_clean/Pop/TREMMLW128F92EC8E1_9f79f5113aa40a71564937281bcc077e_Pop.mid: data byte must be in range 0..127\n",
      "Error processing lmd_matched_clean/Pop/TRUNQUT128F9350E60_ca1c7906ed80ade81206de8c2ebf1d89_Pop.mid: data byte must be in range 0..127\n",
      "Error processing lmd_matched_clean/Pop/TRAVMND128F4275780_89c7067858f00b65fcbf967a8b3a140a_Pop.mid: data byte must be in range 0..127\n",
      "Error processing lmd_matched_clean/Pop/TRTPDCU128F425D724_987371c00112ecbbc6c39e483e91bfc5_Pop.mid: data byte must be in range 0..127\n",
      "Error processing lmd_matched_clean/Pop/TRGQSDZ12903CFB7B8_9fee467c0a7659274bb751b910ae34df_Pop.mid: data byte must be in range 0..127\n",
      "Error processing lmd_matched_clean/Pop/TRGTGJR128F92D2C42_536adb9edbc189771d3ce9ff3f82ee0f_Pop.mid: \n",
      "Error processing lmd_matched_clean/Pop/TRANKSP128F425A9B8_c7322533636b55d8eb7feb62bb7a2256_Pop.mid: \n",
      "Error processing lmd_matched_clean/Pop/TRWXKVJ12903CD9CE4_37a6daf538a76096cff907ddd661380a_Pop.mid: data byte must be in range 0..127\n",
      "Error processing lmd_matched_clean/Pop/TRLIOCT128F1492AC9_fcf11490e183675a00c7ddb2b1560a53_Pop.mid: \n",
      "Error processing lmd_matched_clean/Pop/TRIGERU12903CA44FD_00e6d5785a99002bc645765b8851e9ff_Pop.mid: data byte must be in range 0..127\n",
      "Error processing lmd_matched_clean/Pop/TRURQGZ128EF352BF2_21952deaec604c8f5857a8b412d1b4f8_Pop.mid: data byte must be in range 0..127\n",
      "Error processing lmd_matched_clean/Pop/TREUASA128F92EB21E_837d533c9a17bcc7051003c555b22688_Pop.mid: data byte must be in range 0..127\n",
      "Error processing lmd_matched_clean/Pop/TRZWRJW128F42BC5E1_b640e575d864680782b28f2d82328eae_Pop.mid: data byte must be in range 0..127\n",
      "Error processing lmd_matched_clean/Pop/TRYWMYW12903D139C3_81457a5e14de4f19cd4640ad7db033e3_Pop.mid: data byte must be in range 0..127\n",
      "Error processing lmd_matched_clean/Pop/TRURQGZ128EF352BF2_fbd6abb9035db5c072022521a493dd2a_Pop.mid: data byte must be in range 0..127\n",
      "Error processing lmd_matched_clean/Pop/TRBOFTY128F14A37B1_2734cb37f071920a32efaa3042e4f641_Pop.mid: \n",
      "Error processing lmd_matched_clean/Pop/TRGQZTB128F92F8767_17487afdaab7b2edab256d78b7ba23b7_Pop.mid: \n",
      "Error processing lmd_matched_clean/Pop/TRBEAFC128F425A955_f405900fe143f315fb9b43c1e9f72275_Pop.mid: Could not decode key with 3 flats and mode 255\n",
      "Error processing lmd_matched_clean/Pop/TRMTWOQ128F145F6F0_474db29f020eabcf39aa6c3bcb6b1933_Pop.mid: data byte must be in range 0..127\n",
      "Error processing lmd_matched_clean/Latin/TRQUMVK128F93396A2_84ad0871ac9c525be379442da96ed3f5_Latin.mid: \n",
      "Error processing lmd_matched_clean/Latin/TRRGXJL128F92F2412_6aa4cc46214309060cc957c0f7da905a_Latin.mid: data byte must be in range 0..127\n",
      "Error processing lmd_matched_clean/Latin/TRUFTAO128F9314A02_cc10070c1d6389019ca21489a397b27e_Latin.mid: data byte must be in range 0..127\n",
      "Error processing lmd_matched_clean/Latin/TRBNLHU128F14910D7_a14f09997143aca914303a316f4bb848_Latin.mid: \n",
      "Error processing lmd_matched_clean/Latin/TROCZTE128F42886BE_81457a5e14de4f19cd4640ad7db033e3_Latin.mid: data byte must be in range 0..127\n",
      "Error processing lmd_matched_clean/Latin/TRJOSBB128F9337518_63baf22f47e30843012a0a7c297598a1_Latin.mid: \n",
      "Error processing lmd_matched_clean/Latin/TRZZBVD128F9334F47_e848ed42ec8101ca0d7ff3f37cda1641_Latin.mid: data byte must be in range 0..127\n",
      "Error processing lmd_matched_clean/Latin/TRZZBVD128F9334F47_2912e2d56c727481b49a6d57b32edcc9_Latin.mid: data byte must be in range 0..127\n",
      "Error processing lmd_matched_clean/Latin/TRDENYV128F4295BF9_75aa9bfa965f096ce7cff2cd0d68fc98_Latin.mid: data byte must be in range 0..127\n",
      "Error processing lmd_matched_clean/Latin/TRGWPYW128F42389A9_ee4aa97d0157cecca0f685a4fb267b6f_Latin.mid: data byte must be in range 0..127\n",
      "Error processing lmd_matched_clean/World/TRLOAAJ128F148A279_4ee2b169f856924efa9a6506e79d3b27_World.mid: data byte must be in range 0..127\n",
      "Error processing lmd_matched_clean/World/TRZNTLA128EF363651_a5c32497c73668df835d1f96114c84c4_World.mid: data byte must be in range 0..127\n",
      "Error processing lmd_matched_clean/World/TRRKDBE128F427F3EF_69b25f3fff2c7669c2a5107f8ffa2112_World.mid: data byte must be in range 0..127\n",
      "Error processing lmd_matched_clean/World/TRAOVGO128F4268BB6_a5c32497c73668df835d1f96114c84c4_World.mid: data byte must be in range 0..127\n",
      "Error processing lmd_matched_clean/World/TRHCWDX128F425CBE4_a5c32497c73668df835d1f96114c84c4_World.mid: data byte must be in range 0..127\n",
      "Error processing lmd_matched_clean/World/TRIOOIT128F14910F7_030f057c7015b8ca008036932799e0c6_World.mid: data byte must be in range 0..127\n",
      "Error processing lmd_matched_clean/World/TRSLCNM128F428C00F_cdda34a0c2e0c28dae10248656da5c5d_World.mid: data byte must be in range 0..127\n",
      "Error processing lmd_matched_clean/World/TRIOOIT128F14910F7_cdda34a0c2e0c28dae10248656da5c5d_World.mid: data byte must be in range 0..127\n",
      "Error processing lmd_matched_clean/World/TRSLCNM128F428C00F_030f057c7015b8ca008036932799e0c6_World.mid: data byte must be in range 0..127\n",
      "Error processing lmd_matched_clean/World/TRRKDBE128F427F3EF_ed7292c1a4eef36d9f8e5d6cbb457a7e_World.mid: data byte must be in range 0..127\n",
      "Error processing lmd_matched_clean/World/TRRKDBE128F427F3EF_516b6559acda7b337fea3370eba0eb7e_World.mid: \n",
      "Error processing lmd_matched_clean/World/TRLOAAJ128F148A279_132b08d9e6b08acdae6ae183d4c4c233_World.mid: data byte must be in range 0..127\n",
      "Error processing lmd_matched_clean/Reggae/TRMEAGA128F4266CFB_0b0812979e33c132046d24575ff810cf_Reggae.mid: data byte must be in range 0..127\n",
      "Error processing lmd_matched_clean/Reggae/TRNLLUG128F9333AD8_594229a32df76353c0bb5ba379e22cd1_Reggae.mid: data byte must be in range 0..127\n",
      "Error processing lmd_matched_clean/Electronic/TRGQPPX128F932E095_710e52fdadd6b5de474fc7c4a6dbbf1e_Electronic.mid: data byte must be in range 0..127\n",
      "Error processing lmd_matched_clean/Electronic/TRWUYXS128F42501C7_6d3d0287c77dc0c0934f8427523331cf_Electronic.mid: data byte must be in range 0..127\n",
      "Error processing lmd_matched_clean/Electronic/TRTLWWV128F92FA818_69b25f3fff2c7669c2a5107f8ffa2112_Electronic.mid: data byte must be in range 0..127\n",
      "Error processing lmd_matched_clean/Electronic/TRTLWWV128F92FA818_af714cbf63b1eb35f623b05cf1470e70_Electronic.mid: data byte must be in range 0..127\n",
      "Error processing lmd_matched_clean/Electronic/TRIMECG128F92D0147_0faba1604b59ed7c213b0f119f7155fd_Electronic.mid: data byte must be in range 0..127\n",
      "Error processing lmd_matched_clean/Electronic/TRAPBPB128F933FAAA_572b7562af9fe77d917bd5a6ef252ddd_Electronic.mid: \n",
      "Error processing lmd_matched_clean/Electronic/TRGQPPX128F932E095_ac5d0abee6c8f9007e04a14b7bca6c2a_Electronic.mid: data byte must be in range 0..127\n",
      "Error processing lmd_matched_clean/Electronic/TRHAVBB128F92EC11B_ac5d0abee6c8f9007e04a14b7bca6c2a_Electronic.mid: data byte must be in range 0..127\n",
      "Error processing lmd_matched_clean/Electronic/TRTLWWV128F92FA818_2d73acbbd37e4ba0d3f72776935cb3c7_Electronic.mid: data byte must be in range 0..127\n",
      "Error processing lmd_matched_clean/Electronic/TRBQUBO128E0790182_de4c3d1d7fecc375f013e76024e4878a_Electronic.mid: data byte must be in range 0..127\n",
      "Error processing lmd_matched_clean/Electronic/TRHAVBB128F92EC11B_710e52fdadd6b5de474fc7c4a6dbbf1e_Electronic.mid: data byte must be in range 0..127\n",
      "Error processing lmd_matched_clean/Electronic/TRPJYCW128F42B45FE_bf2c5319603b7e00cee3b4f7dd13d8cd_Electronic.mid: data byte must be in range 0..127\n",
      "Error processing lmd_matched_clean/Electronic/TRGQPPX128F932E095_c871c366bd424a848b54b29dce00bbfe_Electronic.mid: data byte must be in range 0..127\n",
      "Error processing lmd_matched_clean/Electronic/TRXDPOY128F42A8B35_b022f1d8bea4c8a4879d642faffa65dd_Electronic.mid: \n",
      "Error processing lmd_matched_clean/Electronic/TRGLJYM128EF35EE91_bf2c5319603b7e00cee3b4f7dd13d8cd_Electronic.mid: data byte must be in range 0..127\n",
      "Error processing lmd_matched_clean/Electronic/TRNTMLI128F93358EB_9f79f5113aa40a71564937281bcc077e_Electronic.mid: data byte must be in range 0..127\n",
      "Error processing lmd_matched_clean/Electronic/TRTLWWV128F92FA818_ed7292c1a4eef36d9f8e5d6cbb457a7e_Electronic.mid: data byte must be in range 0..127\n",
      "Error processing lmd_matched_clean/Electronic/TRHAVBB128F92EC11B_c871c366bd424a848b54b29dce00bbfe_Electronic.mid: data byte must be in range 0..127\n",
      "Error processing lmd_matched_clean/Electronic/TRTZTXS128F426D9F1_75aa9bfa965f096ce7cff2cd0d68fc98_Electronic.mid: data byte must be in range 0..127\n",
      "Error processing lmd_matched_clean/R&B/TRUFEXZ128F149E9F5_5711e0cb2d8d94fa98bcc1a09d71b70a_R&B.mid: data byte must be in range 0..127\n",
      "Error processing lmd_matched_clean/R&B/TRABAYJ128F92E34EC_3056c10a32eae29dc187cb8c742ecbb7_R&B.mid: data byte must be in range 0..127\n",
      "Error processing lmd_matched_clean/R&B/TRCIJCU128E078E7DA_25e86ebe78270f413114f953cd3b4cfb_R&B.mid: data byte must be in range 0..127\n",
      "Error processing lmd_matched_clean/R&B/TRWPUUA128F933582B_0bb50319008d65fb1584dc5be293d9c2_R&B.mid: data byte must be in range 0..127\n",
      "Error processing lmd_matched_clean/R&B/TRVBKEJ128F1461DD3_d56312258d122bfab8cff7af17694e17_R&B.mid: data byte must be in range 0..127\n",
      "Error processing lmd_matched_clean/R&B/TRXKIOT128F426707F_bf2c5319603b7e00cee3b4f7dd13d8cd_R&B.mid: data byte must be in range 0..127\n",
      "Error processing lmd_matched_clean/R&B/TRCATET128F428A8E5_ef01e7ac175225f00a2a907529a26039_R&B.mid: data byte must be in range 0..127\n",
      "Error processing lmd_matched_clean/R&B/TRMHZDA128F42950E1_73c70bb30b7ab142b4360d2c6e7da634_R&B.mid: data byte must be in range 0..127\n",
      "Error processing lmd_matched_clean/R&B/TRJCHSL128F93263E6_e3cb2a980d5a4dc4c3b169aa66b81c9b_R&B.mid: data byte must be in range 0..127\n",
      "Error processing lmd_matched_clean/R&B/TRFPJWJ128F428FA10_ff243093e079fdc5c5f413b92ec2967e_R&B.mid: data byte must be in range 0..127\n",
      "Error processing lmd_matched_clean/R&B/TRYYVKY128E0799AB6_53f52dc1dad69ee388c9a1ac10a8f0a2_R&B.mid: data byte must be in range 0..127\n",
      "Error processing lmd_matched_clean/R&B/TRFTBPJ128E078F989_9fee467c0a7659274bb751b910ae34df_R&B.mid: data byte must be in range 0..127\n",
      "Error processing lmd_matched_clean/R&B/TRDUGLE128F426585A_84ad0871ac9c525be379442da96ed3f5_R&B.mid: \n",
      "Error processing lmd_matched_clean/R&B/TRYCCCJ128F92E31E7_53f52dc1dad69ee388c9a1ac10a8f0a2_R&B.mid: data byte must be in range 0..127\n",
      "Error processing lmd_matched_clean/R&B/TRPMSAQ128F4288313_12db50fa7ccc685174187a082c4700f0_R&B.mid: Could not decode key with 1 flats and mode 255\n",
      "Error processing lmd_matched_clean/R&B/TRERYGN128F427FFE7_48aa8a67446153902ad2bfe5d7f1872d_R&B.mid: data byte must be in range 0..127\n",
      "Error processing lmd_matched_clean/R&B/TRJBRAA128F92DE4C6_53f52dc1dad69ee388c9a1ac10a8f0a2_R&B.mid: data byte must be in range 0..127\n",
      "Error processing lmd_matched_clean/R&B/TRXQSFO128F92EC3B6_254c41f70d6c133efb4bb68deabd1db8_R&B.mid: data byte must be in range 0..127\n",
      "Error processing lmd_matched_clean/R&B/TRPFCHH128F9313C2B_9fee467c0a7659274bb751b910ae34df_R&B.mid: data byte must be in range 0..127\n",
      "Error processing lmd_matched_clean/R&B/TRUFEXZ128F149E9F5_00e6d5785a99002bc645765b8851e9ff_R&B.mid: data byte must be in range 0..127\n",
      "Error processing lmd_matched_clean/R&B/TRHZKPG128F426025A_40709a2b70b2578f5e8cd5b2ec8bb688_R&B.mid: data byte must be in range 0..127\n",
      "Error processing lmd_matched_clean/R&B/TRMQRTH128F42592D3_4d69ce92cf485bb75144da596f5bd1fa_R&B.mid: data byte must be in range 0..127\n",
      "Error processing lmd_matched_clean/R&B/TRPMSAQ128F4288313_28e494e71fe736532cf6d6744633be8e_R&B.mid: Could not decode key with 1 flats and mode 255\n",
      "Error processing lmd_matched_clean/R&B/TRQVXIY128E07943ED_9475d9e1cd8cc716337c50a34a6b2bfb_R&B.mid: data byte must be in range 0..127\n",
      "Error processing lmd_matched_clean/R&B/TRFUKQU128F42950DE_e09f98773502d44e83056f684edde24b_R&B.mid: \n",
      "Error processing lmd_matched_clean/R&B/TRDUGLE128F426585A_a8771bc9161b3627e3036d599489acae_R&B.mid: data byte must be in range 0..127\n",
      "Error processing lmd_matched_clean/R&B/TRFPZQF128F427B14B_53f52dc1dad69ee388c9a1ac10a8f0a2_R&B.mid: data byte must be in range 0..127\n",
      "Error processing lmd_matched_clean/R&B/TROWOWR128F92DE53B_3f53ca2b9d3922f0e3542a692e54c00d_R&B.mid: data byte must be in range 0..127\n",
      "Error processing lmd_matched_clean/Rock/TROFBYC128F92FA236_2912e2d56c727481b49a6d57b32edcc9_Rock.mid: data byte must be in range 0..127\n",
      "Error processing lmd_matched_clean/Rock/TRXWWWB128F9305CAA_9cf2822ed72e2dfdde4a8b958d8eab60_Rock.mid: data byte must be in range 0..127\n",
      "Error processing lmd_matched_clean/Rock/TRXOPBY128F148B6F9_a060f961557dab7031d0070b8b794394_Rock.mid: data byte must be in range 0..127\n",
      "Error processing lmd_matched_clean/Rock/TRPWQUO12903CD9A5A_285a1b4b42d3d71857515d47715cd6cc_Rock.mid: Could not decode key with 2 flats and mode 255\n",
      "Error processing lmd_matched_clean/Rock/TRFCKLE128F426EA72_75de0d2b28554c7476b3cc0b9cef96ad_Rock.mid: data byte must be in range 0..127\n",
      "Error processing lmd_matched_clean/Rock/TRUHOPW128F9332B42_ee4aa97d0157cecca0f685a4fb267b6f_Rock.mid: data byte must be in range 0..127\n",
      "Error processing lmd_matched_clean/Rock/TRZGKFM128F425AE73_e5afa844b9bae0d1bd2c60eaf88e5152_Rock.mid: data byte must be in range 0..127\n",
      "Error processing lmd_matched_clean/Rock/TRYEIGU128F424D55F_33271befe31cf67878075bbd60297348_Rock.mid: data byte must be in range 0..127\n",
      "Error processing lmd_matched_clean/Rock/TRMWFCA128F425EB8C_123bed39220cac8584d041f39f8ea82e_Rock.mid: \n",
      "Error processing lmd_matched_clean/Rock/TRZUMAU12903CBA485_087a2404ab0a9bfaf22e610df4f5c0e9_Rock.mid: data byte must be in range 0..127\n",
      "Error processing lmd_matched_clean/Rock/TRKMBZN128F428E0C0_24e3ac892ff5a3a725bcc859df3e86ad_Rock.mid: data byte must be in range 0..127\n",
      "Error processing lmd_matched_clean/Rock/TRPELWR128F427A0A8_d66b9c6c36a64a5dd1040008b828c419_Rock.mid: data byte must be in range 0..127\n",
      "Error processing lmd_matched_clean/Rock/TRRGEOW128F933DC7D_b022f1d8bea4c8a4879d642faffa65dd_Rock.mid: \n",
      "Error processing lmd_matched_clean/Rock/TRHYPVF12903CB2D20_bd98be74b612a1561b86aad711a35179_Rock.mid: data byte must be in range 0..127\n",
      "Error processing lmd_matched_clean/Rock/TREFQXA128F933FFEE_572b7562af9fe77d917bd5a6ef252ddd_Rock.mid: \n",
      "Error processing lmd_matched_clean/Rock/TRLSMMW128F4244482_62f4d8788ba05f3c49ebfa6fc9164621_Rock.mid: \n",
      "Error processing lmd_matched_clean/Rock/TRUDLBI128F92E530B_63af6569a364def872252cea2b7885a0_Rock.mid: data byte must be in range 0..127\n",
      "Error processing lmd_matched_clean/Rock/TRYHUCA128F9318753_787c1d1352302ba1bef7fa944e71d1db_Rock.mid: data byte must be in range 0..127\n",
      "Error processing lmd_matched_clean/Rock/TRYQUQA128F932E152_2912e2d56c727481b49a6d57b32edcc9_Rock.mid: data byte must be in range 0..127\n",
      "Error processing lmd_matched_clean/Rock/TRMXREA128F423C33A_e14d7894e6d6edd99a6ce1be2f97e197_Rock.mid: Could not decode key with 1 flats and mode 255\n",
      "Error processing lmd_matched_clean/Rock/TRHBPXU128F4255D9F_ba2c6886f6ed8f7ac713373e651d9e7a_Rock.mid: Could not decode key with 1 flats and mode 255\n",
      "Error processing lmd_matched_clean/Rock/TRJSLGC128F42B84FD_75de0d2b28554c7476b3cc0b9cef96ad_Rock.mid: data byte must be in range 0..127\n",
      "Error processing lmd_matched_clean/Rock/TRANPDP128F42902BA_546df09d78a32141369fcc17ff51cec0_Rock.mid: Could not decode key with 3 flats and mode 255\n",
      "Error processing lmd_matched_clean/Rock/TROGBID128F426377E_22a03272e0b360487723e52dff07b7cd_Rock.mid: data byte must be in range 0..127\n",
      "Error processing lmd_matched_clean/Rock/TRMYGIJ128F426ABFF_62a8b9e3a22fc92fc69b49d15d790f05_Rock.mid: data byte must be in range 0..127\n",
      "Error processing lmd_matched_clean/Rock/TROLENX128F9330D31_11d00ca6cb87af58c0fc01d64541f636_Rock.mid: \n",
      "Error processing lmd_matched_clean/Rock/TREVZLZ128E0788A78_5d77f9c86f5d08f254620b10e8f1df1d_Rock.mid: Could not decode key with 3 flats and mode 255\n",
      "Error processing lmd_matched_clean/Rock/TRRUIKN128E078218F_c03a94962031205a7656296e967b92f7_Rock.mid: data byte must be in range 0..127\n",
      "Error processing lmd_matched_clean/Rock/TRUCHHA128EF3435EA_833b7b62328c63decf99e3fa18b5a661_Rock.mid: data byte must be in range 0..127\n",
      "Error processing lmd_matched_clean/Rock/TRTZRPV12903CC2F53_bb2ac596b49bd6e217f3acf1351efb51_Rock.mid: data byte must be in range 0..127\n",
      "Error processing lmd_matched_clean/Rock/TRLAACO128F148FDC0_e06c3d00b76f7693f74195bbc873733e_Rock.mid: \n",
      "Error processing lmd_matched_clean/Rock/TRXANNA128F92EF09A_dffd641849bf1caab855bebdb2fc234d_Rock.mid: data byte must be in range 0..127\n",
      "Error processing lmd_matched_clean/Rock/TRUUDAM128F93422B7_ad70cb4694c4e93151e4a2972299ac24_Rock.mid: data byte must be in range 0..127\n",
      "Error processing lmd_matched_clean/Rock/TRZPRMR128F4272564_572b7562af9fe77d917bd5a6ef252ddd_Rock.mid: \n",
      "Error processing lmd_matched_clean/Rock/TRSMZLC128F427A3FA_a5c32497c73668df835d1f96114c84c4_Rock.mid: data byte must be in range 0..127\n",
      "Error processing lmd_matched_clean/Rock/TREEDGU128E07856B2_8469ffe18a4b7ec44c5e967631f1f6dd_Rock.mid: Could not decode key with 1 flats and mode 255\n",
      "Error processing lmd_matched_clean/Rock/TROPINY128F92DD93B_6d129b3b2e398f47ab6c4e06c4faae23_Rock.mid: \n",
      "Error processing lmd_matched_clean/Rock/TRRLVUI128F932ACC8_a3b878088406be96eb6e40c99db08273_Rock.mid: data byte must be in range 0..127\n",
      "Error processing lmd_matched_clean/Rock/TRSEKRS12903CBB4FF_5693ab7fdf127fe7db2f804f445d8034_Rock.mid: data byte must be in range 0..127\n",
      "Error processing lmd_matched_clean/Rock/TRWBOFQ128F145A8F1_3f53ca2b9d3922f0e3542a692e54c00d_Rock.mid: data byte must be in range 0..127\n",
      "Error processing lmd_matched_clean/Rock/TRHYECH128F145E5AF_bb2ac596b49bd6e217f3acf1351efb51_Rock.mid: data byte must be in range 0..127\n",
      "Error processing lmd_matched_clean/Rock/TRRKSJO128F4274499_62a8b9e3a22fc92fc69b49d15d790f05_Rock.mid: data byte must be in range 0..127\n",
      "Error processing lmd_matched_clean/Rock/TROHRUF128F42AD54A_3f53ca2b9d3922f0e3542a692e54c00d_Rock.mid: data byte must be in range 0..127\n",
      "Error processing lmd_matched_clean/Rock/TRJKBEJ128F14595A1_80a7afe6064766d8f57a27713d8844dc_Rock.mid: \n",
      "Error processing lmd_matched_clean/Rock/TRELVLI128F426C8EB_978af900af3f79095817cec059fbbdf2_Rock.mid: data byte must be in range 0..127\n"
     ]
    }
   ],
   "source": [
    "from pretty_midi import PrettyMIDI\n",
    "# Stores midi file information. Format: { filepath: data }\n",
    "basic_metadata = {}\n",
    "musical_features = {}\n",
    "performance_features = {}\n",
    "structural_features = {}\n",
    "dataset_analysis: Dict[str, Dict[str, Any]] = {}\n",
    "\n",
    "for filepath in filepath_list:\n",
    "    try:\n",
    "        midi = PrettyMIDI(filepath)\n",
    "        basic_metadata[filepath] = get_midi_basic_metadata(midi, filepath)\n",
    "        musical_features[filepath] = get_midi_musical_features(midi, filepath)\n",
    "        performance_features[filepath] = get_midi_performance_features(midi, filepath)\n",
    "        structural_features[filepath] = get_midi_structural_features(midi, filepath)\n",
    "    except Exception as e:\n",
    "        print(f\"Error processing {filepath}: {e}\")\n",
    "    \n",
    "    dataset_analysis[filepath] = {\n",
    "        \"basic_metadata\": basic_metadata.get(filepath, {}),\n",
    "        \"musical_features\": musical_features.get(filepath, {}),\n",
    "        \"performance_features\": performance_features.get(filepath, {}),\n",
    "        \"structural_features\": structural_features.get(filepath, {}),\n",
    "    }\n"
   ]
  },
  {
   "cell_type": "code",
   "execution_count": null,
   "metadata": {},
   "outputs": [],
   "source": [
    "import json\n",
    "\n",
    "# Save dataset analysis to a JSON file\n",
    "output_file: str = \"dataset_analysis.json\"\n",
    "with open(output_file, \"w\") as json_file:\n",
    "    json.dump(dataset_analysis, json_file, indent=4)\n",
    "\n",
    "print(f\"Dataset analysis saved to {output_file}\")"
   ]
  },
  {
   "cell_type": "markdown",
   "metadata": {
    "id": "4pC2zhxoh28e"
   },
   "source": [
    "# Step 1: Import Necessary Libraries"
   ]
  },
  {
   "cell_type": "code",
   "execution_count": 100,
   "metadata": {
    "id": "kslJkw6oh8Il"
   },
   "outputs": [],
   "source": [
    "# We'll use `pandas` to create and manipulate the DataFrame, and `json` to save the final data in JSON format.\n",
    "import pandas as pd\n",
    "import json\n",
    "from typing import Dict, List, Any\n"
   ]
  },
  {
   "cell_type": "markdown",
   "metadata": {
    "id": "lmP06GXziG_a"
   },
   "source": [
    "# Step 2: Load and parse the file"
   ]
  },
  {
   "cell_type": "code",
   "execution_count": 56,
   "metadata": {
    "colab": {
     "base_uri": "https://localhost:8080/",
     "height": 1000
    },
    "id": "nsSBIEzhiM1_",
    "outputId": "1b69659c-2780-4514-fa9e-373157df3ff4"
   },
   "outputs": [
    {
     "name": "stdout",
     "output_type": "stream",
     "text": [
      "Initial DataFrame:\n",
      "677038\n"
     ]
    },
    {
     "data": {
      "text/html": [
       "<div>\n",
       "<style scoped>\n",
       "    .dataframe tbody tr th:only-of-type {\n",
       "        vertical-align: middle;\n",
       "    }\n",
       "\n",
       "    .dataframe tbody tr th {\n",
       "        vertical-align: top;\n",
       "    }\n",
       "\n",
       "    .dataframe thead th {\n",
       "        text-align: right;\n",
       "    }\n",
       "</style>\n",
       "<table border=\"1\" class=\"dataframe\">\n",
       "  <thead>\n",
       "    <tr style=\"text-align: right;\">\n",
       "      <th></th>\n",
       "      <th>track_id</th>\n",
       "      <th>seed_genre</th>\n",
       "      <th>num_labels</th>\n",
       "      <th>labels</th>\n",
       "    </tr>\n",
       "  </thead>\n",
       "  <tbody>\n",
       "    <tr>\n",
       "      <th>0</th>\n",
       "      <td>TRAAAAK128F9318786</td>\n",
       "      <td>Rock</td>\n",
       "      <td>201</td>\n",
       "      <td>{'Rock': 0.6766169, 'Metal': 0.09950249, 'Hard...</td>\n",
       "    </tr>\n",
       "    <tr>\n",
       "      <th>1</th>\n",
       "      <td>TRAAAAV128F421A322</td>\n",
       "      <td>Rock</td>\n",
       "      <td>8</td>\n",
       "      <td>{'Rock': 0.5, 'Punk': 0.5}</td>\n",
       "    </tr>\n",
       "    <tr>\n",
       "      <th>2</th>\n",
       "      <td>TRAAAAW128F429D538</td>\n",
       "      <td>Hip-Hop</td>\n",
       "      <td>133</td>\n",
       "      <td>{'Hip-Hop': 0.48872182, 'Hip-Hop/Rap': 0.27067...</td>\n",
       "    </tr>\n",
       "    <tr>\n",
       "      <th>3</th>\n",
       "      <td>TRAAAAY128F42A73F0</td>\n",
       "      <td>World</td>\n",
       "      <td>1</td>\n",
       "      <td>{'World': 1.0}</td>\n",
       "    </tr>\n",
       "    <tr>\n",
       "      <th>4</th>\n",
       "      <td>TRAAABD128F429CF47</td>\n",
       "      <td>Rock</td>\n",
       "      <td>40</td>\n",
       "      <td>{'Rock': 0.4, 'Rock/Pop': 0.15, 'Oldies': 0.1,...</td>\n",
       "    </tr>\n",
       "  </tbody>\n",
       "</table>\n",
       "</div>"
      ],
      "text/plain": [
       "             track_id seed_genre  num_labels  \\\n",
       "0  TRAAAAK128F9318786       Rock         201   \n",
       "1  TRAAAAV128F421A322       Rock           8   \n",
       "2  TRAAAAW128F429D538    Hip-Hop         133   \n",
       "3  TRAAAAY128F42A73F0      World           1   \n",
       "4  TRAAABD128F429CF47       Rock          40   \n",
       "\n",
       "                                              labels  \n",
       "0  {'Rock': 0.6766169, 'Metal': 0.09950249, 'Hard...  \n",
       "1                         {'Rock': 0.5, 'Punk': 0.5}  \n",
       "2  {'Hip-Hop': 0.48872182, 'Hip-Hop/Rap': 0.27067...  \n",
       "3                                     {'World': 1.0}  \n",
       "4  {'Rock': 0.4, 'Rock/Pop': 0.15, 'Oldies': 0.1,...  "
      ]
     },
     "execution_count": 56,
     "metadata": {},
     "output_type": "execute_result"
    }
   ],
   "source": [
    "file_path = 'msd_genre_classification.cls'  # Replace with your actual file path\n",
    "\n",
    "# Read the file into a list of dictionaries based on the header format\n",
    "data = []\n",
    "with open(file_path, 'r') as file:\n",
    "    for line in file:\n",
    "        # Skip comments and empty lines\n",
    "        if line.startswith('#') or not line.strip():\n",
    "            continue\n",
    "        # Split each line into fields\n",
    "        fields = line.strip().split('\\t')\n",
    "\n",
    "        # Parse the fields into respective columns\n",
    "        track_id = fields[0]\n",
    "        seed_genre = fields[1]\n",
    "        num_labels = int(fields[2])\n",
    "        labels = fields[3:]\n",
    "\n",
    "        # Group labels and their strengths\n",
    "        label_data = {labels[i]: float(labels[i+1]) for i in range(0, len(labels), 2)}\n",
    "\n",
    "        # Append data as a dictionary\n",
    "        data.append({\n",
    "            'track_id': track_id,\n",
    "            'seed_genre': seed_genre,\n",
    "            'num_labels': num_labels,\n",
    "            'labels': label_data\n",
    "        })\n",
    "\n",
    "# Convert the parsed data into a DataFrame\n",
    "df = pd.DataFrame(data)\n",
    "print(\"Initial DataFrame:\")\n",
    "print(len(df))\n",
    "df.head()"
   ]
  },
  {
   "cell_type": "markdown",
   "metadata": {
    "id": "bH7AIMfMiv5k"
   },
   "source": [
    "# Step 3: Identify and sort genres by num_labels\n"
   ]
  },
  {
   "cell_type": "code",
   "execution_count": 57,
   "metadata": {
    "colab": {
     "base_uri": "https://localhost:8080/"
    },
    "id": "Rnlt86JVjvm-",
    "outputId": "48225c5b-1be5-4965-d424-d7147bcacc74"
   },
   "outputs": [
    {
     "name": "stdout",
     "output_type": "stream",
     "text": [
      "677038\n",
      "Number of genres: 6152\n",
      "Number of genres with counts under 50: 6024\n",
      "Number of genres with counts above 10,000: 14\n",
      "Genre Counts:\n",
      " Rock                   261242\n",
      "Pop                     57210\n",
      "Electronic              38235\n",
      "Jazz                    37844\n",
      "Hip-Hop                 31580\n",
      "                        ...  \n",
      "General Spoken              1\n",
      "Reggae/folk/version         1\n",
      "Classic Ska                 1\n",
      "Deep Chill House            1\n",
      "Tanzania                    1\n",
      "Name: seed_genre, Length: 6152, dtype: int64\n"
     ]
    }
   ],
   "source": [
    "# This will allow us to filter genres with sufficient data later.\n",
    "print(len(df))\n",
    "genre_counts = df['seed_genre'].value_counts()\n",
    "num_genres = len(genre_counts)\n",
    "num_genres_under_50 = (genre_counts < 50).sum()\n",
    "num_genres_above_10000 = (genre_counts > 10_000).sum()\n",
    "print(f\"Number of genres: {num_genres}\")\n",
    "print(f\"Number of genres with counts under 50: {num_genres_under_50}\")\n",
    "print(f\"Number of genres with counts above 10,000: {num_genres_above_10000}\")\n",
    "print(\"Genre Counts:\\n\", genre_counts)"
   ]
  },
  {
   "cell_type": "markdown",
   "metadata": {
    "id": "aDUqbPqsi3Di"
   },
   "source": [
    "# Step 4: Filter categories with low couts or unuseal genres"
   ]
  },
  {
   "cell_type": "code",
   "execution_count": 66,
   "metadata": {
    "colab": {
     "base_uri": "https://localhost:8080/"
    },
    "id": "oZTgLS8XjwKb",
    "outputId": "0ed86ebd-dcc4-4cca-f680-47060d7bce2c"
   },
   "outputs": [
    {
     "name": "stdout",
     "output_type": "stream",
     "text": [
      "Number of Big Genres: 14\n",
      "Filtered DataFrame rows for Big Genres: 574269\n",
      "Sample of Filtered DataFrame:\n",
      "             track_id seed_genre  num_labels  \\\n",
      "0  TRAAAAK128F9318786       Rock         201   \n",
      "1  TRAAAAV128F421A322       Rock           8   \n",
      "2  TRAAAAW128F429D538    Hip-Hop         133   \n",
      "3  TRAAAAY128F42A73F0      World           1   \n",
      "4  TRAAABD128F429CF47       Rock          40   \n",
      "\n",
      "                                              labels  \n",
      "0  {'Rock': 0.6766169, 'Metal': 0.09950249, 'Hard...  \n",
      "1                         {'Rock': 0.5, 'Punk': 0.5}  \n",
      "2  {'Hip-Hop': 0.48872182, 'Hip-Hop/Rap': 0.27067...  \n",
      "3                                     {'World': 1.0}  \n",
      "4  {'Rock': 0.4, 'Rock/Pop': 0.15, 'Oldies': 0.1,...  \n",
      "Total genres: 6152\n",
      "Genres with counts under 50: 6024\n",
      "Genres with counts above 10000: 14\n"
     ]
    }
   ],
   "source": [
    "# Threshold for \"big genres\"\n",
    "# 10,000 = 14 Genres , 11,000 = 11 Genres, 13,000 = 9\n",
    "big_genre_threshold = 10_000\n",
    "\n",
    "# Count occurrences of each seed genre\n",
    "genre_counts = df['seed_genre'].value_counts()\n",
    "\n",
    "# Filter big genres\n",
    "big_genres = genre_counts[genre_counts > big_genre_threshold].index\n",
    "big_genres_df = df[df['seed_genre'].isin(big_genres)]\n",
    "\n",
    "print(f\"Number of Big Genres: {len(big_genres)}\")\n",
    "print(f\"Filtered DataFrame rows for Big Genres: {len(big_genres_df)}\")\n",
    "print(\"Sample of Filtered DataFrame:\")\n",
    "print(big_genres_df.head())\n",
    "\n",
    "# Validate the genre counts\n",
    "print(f\"Total genres: {len(genre_counts)}\")\n",
    "print(f\"Genres with counts under 50: {(genre_counts < 50).sum()}\")\n",
    "print(f\"Genres with counts above {big_genre_threshold}: {(genre_counts > big_genre_threshold).sum()}\")"
   ]
  },
  {
   "cell_type": "markdown",
   "metadata": {
    "id": "DFmhVB3mi8V-"
   },
   "source": [
    "# Step 5: Remove songs with less than 10 user labels"
   ]
  },
  {
   "cell_type": "code",
   "execution_count": 75,
   "metadata": {
    "colab": {
     "base_uri": "https://localhost:8080/"
    },
    "id": "hVdIp6_OjwtU",
    "outputId": "510da5f2-3e61-4d82-9b7f-59e122f57521"
   },
   "outputs": [
    {
     "name": "stdout",
     "output_type": "stream",
     "text": [
      "Filtered DataFrame with songs having 5 or more labels: 339099 songs\n",
      "Filtered DataFrame after removing 'other' genre: 324807 songs\n",
      "Sample of the filtered DataFrame:\n",
      "             track_id seed_genre  num_labels  \\\n",
      "0  TRAAAAK128F9318786       Rock         201   \n",
      "2  TRAAAAW128F429D538    Hip-Hop         133   \n",
      "4  TRAAABD128F429CF47       Rock          40   \n",
      "8  TRAAAED128E0783FAB       Jazz        2227   \n",
      "9  TRAAAEF128F4273421       Rock         181   \n",
      "\n",
      "                                              labels  \n",
      "0  {'Rock': 0.6766169, 'Metal': 0.09950249, 'Hard...  \n",
      "2  {'Hip-Hop': 0.48872182, 'Hip-Hop/Rap': 0.27067...  \n",
      "4  {'Rock': 0.4, 'Rock/Pop': 0.15, 'Oldies': 0.1,...  \n",
      "8  {'Jazz': 0.6897171, 'Pop': 0.061517738, 'Gener...  \n",
      "9  {'Rock': 0.45303866, 'New Wave': 0.13812155, '...  \n"
     ]
    }
   ],
   "source": [
    "# Filter to include only songs with 10 or more labels\n",
    "min_song_threshold = 10\n",
    "big_genres_df_10_plus_songs = big_genres_df[big_genres_df['num_labels'] >= min_song_threshold]\n",
    "print(f\"Filtered DataFrame with songs having 5 or more labels: {big_genres_df_10_plus_songs.shape[0]} songs\")\n",
    "\n",
    "# Remove songs with 'other' as the seed genre (if any)\n",
    "explicit_genre_exclude = ['other', 'Electronica/Dance', 'Soundtrack']\n",
    "big_genres_df_final = big_genres_df_10_plus_songs[big_genres_df_10_plus_songs['seed_genre'].isin(explicit_genre_exclude) == False]\n",
    "print(f\"Filtered DataFrame after removing 'other' genre: {big_genres_df_final.shape[0]} songs\")\n",
    "\n",
    "# Display a sample of the filtered DataFrame\n",
    "print(\"Sample of the filtered DataFrame:\")\n",
    "print(big_genres_df_final.head())\n"
   ]
  },
  {
   "cell_type": "markdown",
   "metadata": {
    "id": "UATNegRdcLdf"
   },
   "source": [
    "# Step 6: Clean the labels for each songs (Remove low probability and unused genres)"
   ]
  },
  {
   "cell_type": "code",
   "execution_count": 76,
   "metadata": {
    "colab": {
     "base_uri": "https://localhost:8080/"
    },
    "id": "1wtKfhoScXxa",
    "outputId": "78bfbf43-ead3-4e6f-c88b-1f5d19c1c544"
   },
   "outputs": [
    {
     "name": "stdout",
     "output_type": "stream",
     "text": [
      "DataFrame after cleaning labels: 312781 songs\n",
      "Sample of cleaned labels:\n",
      "             track_id                                   labels\n",
      "0  TRAAAAK128F9318786                      {'Rock': 0.6766169}\n",
      "2  TRAAAAW128F429D538                  {'Hip-Hop': 0.48872182}\n",
      "4  TRAAABD128F429CF47              {'Rock': 0.4, 'Pop': 0.075}\n",
      "8  TRAAAED128E0783FAB  {'Jazz': 0.6897171, 'Pop': 0.061517738}\n",
      "9  TRAAAEF128F4273421   {'Rock': 0.45303866, 'Pop': 0.0718232}\n"
     ]
    },
    {
     "name": "stderr",
     "output_type": "stream",
     "text": [
      "/Users/viduragaram/opt/anaconda3/envs/cs4710/lib/python3.6/site-packages/ipykernel_launcher.py:22: SettingWithCopyWarning: \n",
      "A value is trying to be set on a copy of a slice from a DataFrame.\n",
      "Try using .loc[row_indexer,col_indexer] = value instead\n",
      "\n",
      "See the caveats in the documentation: https://pandas.pydata.org/pandas-docs/stable/user_guide/indexing.html#returning-a-view-versus-a-copy\n"
     ]
    }
   ],
   "source": [
    "# Define a probability threshold for keeping genres\n",
    "probability_threshold = 0.01\n",
    "\n",
    "def clean_labels(label_data, threshold, valid_genres):\n",
    "    \"\"\"\n",
    "    Remove low-probability genres from the label dictionary.\n",
    "\n",
    "    Parameters:\n",
    "        label_data (dict): Dictionary of genres and their probabilities.\n",
    "        threshold (float): Minimum probability to retain a genre.\n",
    "        valid_genres (list[str]): List of valid genres to retain.\n",
    "\n",
    "    Returns:\n",
    "        dict: Cleaned label dictionary with high-probability genres.\n",
    "    \"\"\"\n",
    "    return {genre: prob for genre, prob in label_data.items() if prob >= threshold and genre in valid_genres}\n",
    "\n",
    "# Apply the cleaning function to the 'labels' column\n",
    "big_genres_df_final['labels'] = big_genres_df_final['labels'].apply(\n",
    "    clean_labels,\n",
    "    threshold=probability_threshold,\n",
    "    valid_genres=list(big_genres)\n",
    ")\n",
    "\n",
    "# Remove rows where the cleaned 'labels' dictionary is empty (i.e., no genres meet the threshold)\n",
    "big_genres_df_final = big_genres_df_final[big_genres_df_final['labels'].apply(bool)]\n",
    "\n",
    "print(f\"DataFrame after cleaning labels: {big_genres_df_final.shape[0]} songs\")\n",
    "print(\"Sample of cleaned labels:\")\n",
    "print(big_genres_df_final[['track_id', 'labels']].head())\n"
   ]
  },
  {
   "cell_type": "markdown",
   "metadata": {},
   "source": [
    "Install basic depencies"
   ]
  },
  {
   "cell_type": "markdown",
   "metadata": {},
   "source": [
    "Setup functions and variables"
   ]
  },
  {
   "cell_type": "code",
   "execution_count": null,
   "metadata": {},
   "outputs": [],
   "source": [
    "# Base directory for your dataset\n",
    "base_dir = \"lmd_matched_clean\"\n",
    "\n",
    "# Dictionaries to store mappings\n",
    "genre_to_filepaths: Dict[str, List[str]] = {}\n",
    "filepath_to_genre: Dict[str, str] = {}\n",
    "filepath_list: List[str] = []\n",
    "\n",
    "# Iterate through the directories and populate mappings\n",
    "for genre in os.listdir(base_dir):\n",
    "    genre_folder: str = os.path.join(base_dir, genre)\n",
    "    if os.path.isdir(genre_folder):\n",
    "        genre_to_filepaths[genre] = []\n",
    "        for file in os.listdir(genre_folder):\n",
    "            if file.endswith(\".mid\"):\n",
    "                filepath: str = os.path.join(genre_folder, file)\n",
    "                genre_to_filepaths[genre].append(filepath)\n",
    "                filepath_to_genre[filepath] = genre\n",
    "                filepath_list.append(filepath)\n",
    "\n"
   ]
  },
  {
   "cell_type": "code",
   "execution_count": 95,
   "metadata": {
    "tags": []
   },
   "outputs": [
    {
     "name": "stderr",
     "output_type": "stream",
     "text": [
      "IOPub data rate exceeded.\n",
      "The Jupyter server will temporarily stop sending output\n",
      "to the client in order to avoid crashing it.\n",
      "To change this limit, set the config variable\n",
      "`--ServerApp.iopub_data_rate_limit`.\n",
      "\n",
      "Current values:\n",
      "ServerApp.iopub_data_rate_limit=1000000.0 (bytes/sec)\n",
      "ServerApp.rate_limit_window=3.0 (secs)\n",
      "\n"
     ]
    }
   ],
   "source": [
    "from itertools import islice\n",
    "\n",
    "small_section = dict(islice(genre_to_filepaths.items(), 10))\n",
    "print(small_section)"
   ]
  },
  {
   "cell_type": "markdown",
   "metadata": {},
   "source": [
    "# Save midi file data analysis to json"
   ]
  },
  {
   "cell_type": "markdown",
   "metadata": {
    "id": "p24Q1Rhti_Nx",
    "tags": []
   },
   "source": [
    "# Save the cleaned data to JSON and .cls file"
   ]
  },
  {
   "cell_type": "code",
   "execution_count": 102,
   "metadata": {
    "colab": {
     "base_uri": "https://localhost:8080/"
    },
    "id": "0lGBSyeVjxRC",
    "outputId": "4ea8f81d-fc29-4c8e-fd0b-4d327d660131"
   },
   "outputs": [
    {
     "name": "stdout",
     "output_type": "stream",
     "text": [
      "Data saved to cleaned_data.json\n"
     ]
    },
    {
     "ename": "KeyboardInterrupt",
     "evalue": "",
     "output_type": "error",
     "traceback": [
      "\u001b[0;31m---------------------------------------------------------------------------\u001b[0m",
      "\u001b[0;31mKeyboardInterrupt\u001b[0m                         Traceback (most recent call last)",
      "\u001b[0;32m<ipython-input-102-ea4e9bf28810>\u001b[0m in \u001b[0;36m<module>\u001b[0;34m\u001b[0m\n\u001b[1;32m      8\u001b[0m \u001b[0mcls_output_path\u001b[0m \u001b[0;34m=\u001b[0m \u001b[0;34m'cleaned_data.cls'\u001b[0m\u001b[0;34m\u001b[0m\u001b[0;34m\u001b[0m\u001b[0m\n\u001b[1;32m      9\u001b[0m \u001b[0;32mwith\u001b[0m \u001b[0mopen\u001b[0m\u001b[0;34m(\u001b[0m\u001b[0mcls_output_path\u001b[0m\u001b[0;34m,\u001b[0m \u001b[0;34m'w'\u001b[0m\u001b[0;34m)\u001b[0m \u001b[0;32mas\u001b[0m \u001b[0mcls_file\u001b[0m\u001b[0;34m:\u001b[0m\u001b[0;34m\u001b[0m\u001b[0;34m\u001b[0m\u001b[0m\n\u001b[0;32m---> 10\u001b[0;31m     \u001b[0;32mfor\u001b[0m \u001b[0m_\u001b[0m\u001b[0;34m,\u001b[0m \u001b[0mrow\u001b[0m \u001b[0;32min\u001b[0m \u001b[0mbig_genres_df_final\u001b[0m\u001b[0;34m.\u001b[0m\u001b[0miterrows\u001b[0m\u001b[0;34m(\u001b[0m\u001b[0;34m)\u001b[0m\u001b[0;34m:\u001b[0m\u001b[0;34m\u001b[0m\u001b[0;34m\u001b[0m\u001b[0m\n\u001b[0m\u001b[1;32m     11\u001b[0m         \u001b[0mline\u001b[0m \u001b[0;34m=\u001b[0m \u001b[0;34mf\"{row['track_id']}\\t{row['seed_genre']}\\t{row['num_labels']}\"\u001b[0m\u001b[0;34m\u001b[0m\u001b[0;34m\u001b[0m\u001b[0m\n\u001b[1;32m     12\u001b[0m         \u001b[0;32mfor\u001b[0m \u001b[0mlabel\u001b[0m\u001b[0;34m,\u001b[0m \u001b[0mstrength\u001b[0m \u001b[0;32min\u001b[0m \u001b[0mrow\u001b[0m\u001b[0;34m[\u001b[0m\u001b[0;34m'labels'\u001b[0m\u001b[0;34m]\u001b[0m\u001b[0;34m.\u001b[0m\u001b[0mitems\u001b[0m\u001b[0;34m(\u001b[0m\u001b[0;34m)\u001b[0m\u001b[0;34m:\u001b[0m\u001b[0;34m\u001b[0m\u001b[0;34m\u001b[0m\u001b[0m\n",
      "\u001b[0;32m~/opt/anaconda3/envs/cs4710/lib/python3.6/site-packages/pandas/core/frame.py\u001b[0m in \u001b[0;36miterrows\u001b[0;34m(self)\u001b[0m\n\u001b[1;32m   1012\u001b[0m         \u001b[0mklass\u001b[0m \u001b[0;34m=\u001b[0m \u001b[0mself\u001b[0m\u001b[0;34m.\u001b[0m\u001b[0m_constructor_sliced\u001b[0m\u001b[0;34m\u001b[0m\u001b[0;34m\u001b[0m\u001b[0m\n\u001b[1;32m   1013\u001b[0m         \u001b[0;32mfor\u001b[0m \u001b[0mk\u001b[0m\u001b[0;34m,\u001b[0m \u001b[0mv\u001b[0m \u001b[0;32min\u001b[0m \u001b[0mzip\u001b[0m\u001b[0;34m(\u001b[0m\u001b[0mself\u001b[0m\u001b[0;34m.\u001b[0m\u001b[0mindex\u001b[0m\u001b[0;34m,\u001b[0m \u001b[0mself\u001b[0m\u001b[0;34m.\u001b[0m\u001b[0mvalues\u001b[0m\u001b[0;34m)\u001b[0m\u001b[0;34m:\u001b[0m\u001b[0;34m\u001b[0m\u001b[0;34m\u001b[0m\u001b[0m\n\u001b[0;32m-> 1014\u001b[0;31m             \u001b[0ms\u001b[0m \u001b[0;34m=\u001b[0m \u001b[0mklass\u001b[0m\u001b[0;34m(\u001b[0m\u001b[0mv\u001b[0m\u001b[0;34m,\u001b[0m \u001b[0mindex\u001b[0m\u001b[0;34m=\u001b[0m\u001b[0mcolumns\u001b[0m\u001b[0;34m,\u001b[0m \u001b[0mname\u001b[0m\u001b[0;34m=\u001b[0m\u001b[0mk\u001b[0m\u001b[0;34m)\u001b[0m\u001b[0;34m\u001b[0m\u001b[0;34m\u001b[0m\u001b[0m\n\u001b[0m\u001b[1;32m   1015\u001b[0m             \u001b[0;32myield\u001b[0m \u001b[0mk\u001b[0m\u001b[0;34m,\u001b[0m \u001b[0ms\u001b[0m\u001b[0;34m\u001b[0m\u001b[0;34m\u001b[0m\u001b[0m\n\u001b[1;32m   1016\u001b[0m \u001b[0;34m\u001b[0m\u001b[0m\n",
      "\u001b[0;32m~/opt/anaconda3/envs/cs4710/lib/python3.6/site-packages/pandas/core/series.py\u001b[0m in \u001b[0;36m__init__\u001b[0;34m(self, data, index, dtype, name, copy, fastpath)\u001b[0m\n\u001b[1;32m    327\u001b[0m                 \u001b[0mdata\u001b[0m \u001b[0;34m=\u001b[0m \u001b[0msanitize_array\u001b[0m\u001b[0;34m(\u001b[0m\u001b[0mdata\u001b[0m\u001b[0;34m,\u001b[0m \u001b[0mindex\u001b[0m\u001b[0;34m,\u001b[0m \u001b[0mdtype\u001b[0m\u001b[0;34m,\u001b[0m \u001b[0mcopy\u001b[0m\u001b[0;34m,\u001b[0m \u001b[0mraise_cast_failure\u001b[0m\u001b[0;34m=\u001b[0m\u001b[0;32mTrue\u001b[0m\u001b[0;34m)\u001b[0m\u001b[0;34m\u001b[0m\u001b[0;34m\u001b[0m\u001b[0m\n\u001b[1;32m    328\u001b[0m \u001b[0;34m\u001b[0m\u001b[0m\n\u001b[0;32m--> 329\u001b[0;31m                 \u001b[0mdata\u001b[0m \u001b[0;34m=\u001b[0m \u001b[0mSingleBlockManager\u001b[0m\u001b[0;34m.\u001b[0m\u001b[0mfrom_array\u001b[0m\u001b[0;34m(\u001b[0m\u001b[0mdata\u001b[0m\u001b[0;34m,\u001b[0m \u001b[0mindex\u001b[0m\u001b[0;34m)\u001b[0m\u001b[0;34m\u001b[0m\u001b[0;34m\u001b[0m\u001b[0m\n\u001b[0m\u001b[1;32m    330\u001b[0m \u001b[0;34m\u001b[0m\u001b[0m\n\u001b[1;32m    331\u001b[0m         \u001b[0mgeneric\u001b[0m\u001b[0;34m.\u001b[0m\u001b[0mNDFrame\u001b[0m\u001b[0;34m.\u001b[0m\u001b[0m__init__\u001b[0m\u001b[0;34m(\u001b[0m\u001b[0mself\u001b[0m\u001b[0;34m,\u001b[0m \u001b[0mdata\u001b[0m\u001b[0;34m)\u001b[0m\u001b[0;34m\u001b[0m\u001b[0;34m\u001b[0m\u001b[0m\n",
      "\u001b[0;32m~/opt/anaconda3/envs/cs4710/lib/python3.6/site-packages/pandas/core/internals/managers.py\u001b[0m in \u001b[0;36mfrom_array\u001b[0;34m(cls, array, index)\u001b[0m\n\u001b[1;32m   1576\u001b[0m         \u001b[0mConstructor\u001b[0m \u001b[0;32mfor\u001b[0m \u001b[0;32mif\u001b[0m \u001b[0mwe\u001b[0m \u001b[0mhave\u001b[0m \u001b[0man\u001b[0m \u001b[0marray\u001b[0m \u001b[0mthat\u001b[0m \u001b[0;32mis\u001b[0m \u001b[0;32mnot\u001b[0m \u001b[0myet\u001b[0m \u001b[0ma\u001b[0m \u001b[0mBlock\u001b[0m\u001b[0;34m.\u001b[0m\u001b[0;34m\u001b[0m\u001b[0;34m\u001b[0m\u001b[0m\n\u001b[1;32m   1577\u001b[0m         \"\"\"\n\u001b[0;32m-> 1578\u001b[0;31m         \u001b[0mblock\u001b[0m \u001b[0;34m=\u001b[0m \u001b[0mmake_block\u001b[0m\u001b[0;34m(\u001b[0m\u001b[0marray\u001b[0m\u001b[0;34m,\u001b[0m \u001b[0mplacement\u001b[0m\u001b[0;34m=\u001b[0m\u001b[0mslice\u001b[0m\u001b[0;34m(\u001b[0m\u001b[0;36m0\u001b[0m\u001b[0;34m,\u001b[0m \u001b[0mlen\u001b[0m\u001b[0;34m(\u001b[0m\u001b[0mindex\u001b[0m\u001b[0;34m)\u001b[0m\u001b[0;34m)\u001b[0m\u001b[0;34m,\u001b[0m \u001b[0mndim\u001b[0m\u001b[0;34m=\u001b[0m\u001b[0;36m1\u001b[0m\u001b[0;34m)\u001b[0m\u001b[0;34m\u001b[0m\u001b[0;34m\u001b[0m\u001b[0m\n\u001b[0m\u001b[1;32m   1579\u001b[0m         \u001b[0;32mreturn\u001b[0m \u001b[0mcls\u001b[0m\u001b[0;34m(\u001b[0m\u001b[0mblock\u001b[0m\u001b[0;34m,\u001b[0m \u001b[0mindex\u001b[0m\u001b[0;34m)\u001b[0m\u001b[0;34m\u001b[0m\u001b[0;34m\u001b[0m\u001b[0m\n\u001b[1;32m   1580\u001b[0m \u001b[0;34m\u001b[0m\u001b[0m\n",
      "\u001b[0;32m~/opt/anaconda3/envs/cs4710/lib/python3.6/site-packages/pandas/core/internals/blocks.py\u001b[0m in \u001b[0;36mmake_block\u001b[0;34m(values, placement, klass, ndim, dtype)\u001b[0m\n\u001b[1;32m   2735\u001b[0m     \u001b[0;32mif\u001b[0m \u001b[0mklass\u001b[0m \u001b[0;32mis\u001b[0m \u001b[0;32mNone\u001b[0m\u001b[0;34m:\u001b[0m\u001b[0;34m\u001b[0m\u001b[0;34m\u001b[0m\u001b[0m\n\u001b[1;32m   2736\u001b[0m         \u001b[0mdtype\u001b[0m \u001b[0;34m=\u001b[0m \u001b[0mdtype\u001b[0m \u001b[0;32mor\u001b[0m \u001b[0mvalues\u001b[0m\u001b[0;34m.\u001b[0m\u001b[0mdtype\u001b[0m\u001b[0;34m\u001b[0m\u001b[0;34m\u001b[0m\u001b[0m\n\u001b[0;32m-> 2737\u001b[0;31m         \u001b[0mklass\u001b[0m \u001b[0;34m=\u001b[0m \u001b[0mget_block_type\u001b[0m\u001b[0;34m(\u001b[0m\u001b[0mvalues\u001b[0m\u001b[0;34m,\u001b[0m \u001b[0mdtype\u001b[0m\u001b[0;34m)\u001b[0m\u001b[0;34m\u001b[0m\u001b[0;34m\u001b[0m\u001b[0m\n\u001b[0m\u001b[1;32m   2738\u001b[0m \u001b[0;34m\u001b[0m\u001b[0m\n\u001b[1;32m   2739\u001b[0m     \u001b[0;32melif\u001b[0m \u001b[0mklass\u001b[0m \u001b[0;32mis\u001b[0m \u001b[0mDatetimeTZBlock\u001b[0m \u001b[0;32mand\u001b[0m \u001b[0;32mnot\u001b[0m \u001b[0mis_datetime64tz_dtype\u001b[0m\u001b[0;34m(\u001b[0m\u001b[0mvalues\u001b[0m\u001b[0;34m.\u001b[0m\u001b[0mdtype\u001b[0m\u001b[0;34m)\u001b[0m\u001b[0;34m:\u001b[0m\u001b[0;34m\u001b[0m\u001b[0;34m\u001b[0m\u001b[0m\n",
      "\u001b[0;32m~/opt/anaconda3/envs/cs4710/lib/python3.6/site-packages/pandas/core/internals/blocks.py\u001b[0m in \u001b[0;36mget_block_type\u001b[0;34m(values, dtype)\u001b[0m\n\u001b[1;32m   2691\u001b[0m     \u001b[0mvtype\u001b[0m \u001b[0;34m=\u001b[0m \u001b[0mdtype\u001b[0m\u001b[0;34m.\u001b[0m\u001b[0mtype\u001b[0m\u001b[0;34m\u001b[0m\u001b[0;34m\u001b[0m\u001b[0m\n\u001b[1;32m   2692\u001b[0m \u001b[0;34m\u001b[0m\u001b[0m\n\u001b[0;32m-> 2693\u001b[0;31m     \u001b[0;32mif\u001b[0m \u001b[0mis_sparse\u001b[0m\u001b[0;34m(\u001b[0m\u001b[0mdtype\u001b[0m\u001b[0;34m)\u001b[0m\u001b[0;34m:\u001b[0m\u001b[0;34m\u001b[0m\u001b[0;34m\u001b[0m\u001b[0m\n\u001b[0m\u001b[1;32m   2694\u001b[0m         \u001b[0;31m# Need this first(ish) so that Sparse[datetime] is sparse\u001b[0m\u001b[0;34m\u001b[0m\u001b[0;34m\u001b[0m\u001b[0;34m\u001b[0m\u001b[0m\n\u001b[1;32m   2695\u001b[0m         \u001b[0mcls\u001b[0m \u001b[0;34m=\u001b[0m \u001b[0mExtensionBlock\u001b[0m\u001b[0;34m\u001b[0m\u001b[0;34m\u001b[0m\u001b[0m\n",
      "\u001b[0;32m~/opt/anaconda3/envs/cs4710/lib/python3.6/site-packages/pandas/core/dtypes/common.py\u001b[0m in \u001b[0;36mis_sparse\u001b[0;34m(arr)\u001b[0m\n\u001b[1;32m    264\u001b[0m     \u001b[0mReturns\u001b[0m\u001b[0;31m \u001b[0m\u001b[0;31m`\u001b[0m\u001b[0;32mFalse\u001b[0m\u001b[0;31m`\u001b[0m \u001b[0;32mif\u001b[0m \u001b[0mthe\u001b[0m \u001b[0mparameter\u001b[0m \u001b[0mhas\u001b[0m \u001b[0mmore\u001b[0m \u001b[0mthan\u001b[0m \u001b[0mone\u001b[0m \u001b[0mdimension\u001b[0m\u001b[0;34m.\u001b[0m\u001b[0;34m\u001b[0m\u001b[0;34m\u001b[0m\u001b[0m\n\u001b[1;32m    265\u001b[0m     \"\"\"\n\u001b[0;32m--> 266\u001b[0;31m     \u001b[0;32mfrom\u001b[0m \u001b[0mpandas\u001b[0m\u001b[0;34m.\u001b[0m\u001b[0mcore\u001b[0m\u001b[0;34m.\u001b[0m\u001b[0marrays\u001b[0m\u001b[0;34m.\u001b[0m\u001b[0msparse\u001b[0m \u001b[0;32mimport\u001b[0m \u001b[0mSparseDtype\u001b[0m\u001b[0;34m\u001b[0m\u001b[0;34m\u001b[0m\u001b[0m\n\u001b[0m\u001b[1;32m    267\u001b[0m \u001b[0;34m\u001b[0m\u001b[0m\n\u001b[1;32m    268\u001b[0m     \u001b[0mdtype\u001b[0m \u001b[0;34m=\u001b[0m \u001b[0mgetattr\u001b[0m\u001b[0;34m(\u001b[0m\u001b[0marr\u001b[0m\u001b[0;34m,\u001b[0m \u001b[0;34m\"dtype\"\u001b[0m\u001b[0;34m,\u001b[0m \u001b[0marr\u001b[0m\u001b[0;34m)\u001b[0m\u001b[0;34m\u001b[0m\u001b[0;34m\u001b[0m\u001b[0m\n",
      "\u001b[0;32m~/opt/anaconda3/envs/cs4710/lib/python3.6/importlib/_bootstrap.py\u001b[0m in \u001b[0;36m_handle_fromlist\u001b[0;34m(module, fromlist, import_, recursive)\u001b[0m\n",
      "\u001b[0;31mKeyboardInterrupt\u001b[0m: "
     ]
    }
   ],
   "source": [
    "# We'll save the final DataFrame in two formats as requested.\n",
    "json_output_path = 'cleaned_data.json'\n",
    "with open(json_output_path, 'w') as json_file:\n",
    "    json.dump(big_genres_df_final.to_dict(orient='records'), json_file, indent=2)\n",
    "print(f\"Data saved to {json_output_path}\")\n",
    "\n",
    "# CLS format (tab-separated as per original format)\n",
    "cls_output_path = 'cleaned_data.cls'\n",
    "with open(cls_output_path, 'w') as cls_file:\n",
    "    for _, row in big_genres_df_final.iterrows():\n",
    "        line = f\"{row['track_id']}\\t{row['seed_genre']}\\t{row['num_labels']}\"\n",
    "        for label, strength in row['labels'].items():\n",
    "            line += f\"\\t{label}\\t{strength}\"\n",
    "        cls_file.write(line + '\\n')\n",
    "print(f\"Data saved to {cls_output_path}\")"
   ]
  },
  {
   "cell_type": "markdown",
   "metadata": {},
   "source": [
    "# Process Original lmd_matched folder and move to lmd_matched_clean (with genres)\n"
   ]
  },
  {
   "cell_type": "code",
   "execution_count": 77,
   "metadata": {},
   "outputs": [],
   "source": [
    "import os\n",
    "import json\n",
    "import shutil\n",
    "import pretty_midi\n",
    "\n",
    "# Paths\n",
    "aligned_folder = 'lmd_matched'\n",
    "match_scores_path = 'match_scores.json'\n",
    "destination_folder = 'lmd_matched_clean'"
   ]
  },
  {
   "cell_type": "code",
   "execution_count": 78,
   "metadata": {},
   "outputs": [],
   "source": [
    "# Load match scores\n",
    "with open(match_scores_path, 'r') as f:\n",
    "    match_scores = json.load(f)\n",
    "\n",
    "# Initialize metadata storage\n",
    "metadata_list = []\n",
    "numOfExceptions: int = 0\n",
    "\n",
    "# Function to generate directory paths\n",
    "def msd_id_to_dirs(track_id: str) -> str:\n",
    "    \"\"\"Generate the directory structure for a track ID.\"\"\"\n",
    "    return os.path.join(track_id[2], track_id[3], track_id[4], track_id)\n",
    "\n",
    "# Function to get MIDI file path\n",
    "def get_midi_path(track_id: str, midi_md5: str) -> str:\n",
    "    \"\"\"Generate the full path to the MIDI file.\"\"\"\n",
    "    return os.path.join(aligned_folder, msd_id_to_dirs(track_id), midi_md5 + '.mid')\n",
    "\n",
    "# Function to create new filename\n",
    "def get_cleaned_midi_new_filename(track_id: str, midi_md5: str, genre: str) -> str:\n",
    "    \"\"\"Generate the cleaned filename in the format {track_id}_{midi_md5}_{genre}.mid.\"\"\"\n",
    "    return f\"{track_id}_{midi_md5}_{genre}.mid\"\n"
   ]
  },
  {
   "cell_type": "code",
   "execution_count": 79,
   "metadata": {},
   "outputs": [],
   "source": [
    "# DON'T RUN UNLESS YOU WANT TO PARSE AND COPY FROM ORIGINIAL DATASET TO THE CLEAN"
   ]
  },
  {
   "cell_type": "code",
   "execution_count": 84,
   "metadata": {
    "tags": []
   },
   "outputs": [],
   "source": [
    "# Process files\n",
    "# DON'T RUN UNLESS YOU WANT TO PARSE AND COPY FROM ORIGINAL DATASET TO THE CLEAN\n",
    "for _, row in big_genres_df_final.iterrows():\n",
    "    track_id = row['track_id']\n",
    "    genre = row['seed_genre']\n",
    "    \n",
    "    # Check if track_id exists in match_scores\n",
    "    if track_id in match_scores:\n",
    "        for midi_md5_filename, score in match_scores[track_id].items():\n",
    "            if score > 0.5:\n",
    "                # Locate MIDI file\n",
    "                try:\n",
    "                    midi_path = get_midi_path(track_id, midi_md5_filename)\n",
    "                    if os.path.exists(midi_path):\n",
    "                        # Copy to genre folder\n",
    "                        new_midi_filename = get_cleaned_midi_new_filename(track_id, midi_md5_filename, genre)\n",
    "                        genre_folder = os.path.join(destination_folder, genre)\n",
    "                        os.makedirs(genre_folder, exist_ok=True)  # Ensure the genre folder exists\n",
    "                        destination_path = os.path.join(genre_folder, new_midi_filename)\n",
    "                        shutil.copy(midi_path, destination_path)\n",
    "                        # print(f\"Copied {midi_path} to {destination_path}\")\n",
    "                except Exception as ex:\n",
    "                    print(f\"Error processing file {midi_md5_filename}: {ex}\")\n",
    "                    numOfExceptions += 1"
   ]
  },
  {
   "cell_type": "code",
   "execution_count": 86,
   "metadata": {},
   "outputs": [
    {
     "name": "stdout",
     "output_type": "stream",
     "text": [
      "185\n"
     ]
    }
   ],
   "source": [
    "print(numOfExceptions)"
   ]
  }
 ],
 "metadata": {
  "colab": {
   "provenance": []
  },
  "kernelspec": {
   "display_name": "Python 3",
   "language": "python",
   "name": "python3"
  },
  "language_info": {
   "codemirror_mode": {
    "name": "ipython",
    "version": 3
   },
   "file_extension": ".py",
   "mimetype": "text/x-python",
   "name": "python",
   "nbconvert_exporter": "python",
   "pygments_lexer": "ipython3",
   "version": "3.9.10"
  }
 },
 "nbformat": 4,
 "nbformat_minor": 4
}
