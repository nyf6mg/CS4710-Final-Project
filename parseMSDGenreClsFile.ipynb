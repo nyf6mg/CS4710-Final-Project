{
 "cells": [
  {
   "cell_type": "markdown",
   "metadata": {},
   "source": [
    "# Parsing MIDI functions"
   ]
  },
  {
   "cell_type": "code",
   "execution_count": 5,
   "metadata": {},
   "outputs": [],
   "source": [
    "# Basic Metadata\n",
    "def get_midi_basic_metadata(midi, filepath):\n",
    "    metadata = {\n",
    "        \"genre\": filepath_to_genre[filepath],\n",
    "        \"number_of_tracks\": len(midi.instruments),\n",
    "        \"duration_seconds\": midi.get_end_time(),\n",
    "        \"file_size_kb\": os.path.getsize(filepath) / 1024,\n",
    "    }\n",
    "    return metadata\n",
    "    \n",
    "def get_midi_musical_features(midi, filepath):\n",
    "    features = {\n",
    "        \"tempo\": midi.estimate_tempo(),\n",
    "        \"key_signatures\": [str(key) for key in midi.key_signature_changes],\n",
    "        \"time_signatures\": [str(ts) for ts in midi.time_signature_changes],\n",
    "        \"pitch_range\": (\n",
    "            min(note.pitch for instrument in midi.instruments for note in instrument.notes),\n",
    "            max(note.pitch for instrument in midi.instruments for note in instrument.notes),\n",
    "        ),\n",
    "    }\n",
    "    return features\n",
    "    \n",
    "    \n",
    "def get_midi_performance_features(midi, filepath):\n",
    "    performance = {\n",
    "        \"velocity_range\": (\n",
    "            min(note.velocity for instrument in midi.instruments for note in instrument.notes),\n",
    "            max(note.velocity for instrument in midi.instruments for note in instrument.notes),\n",
    "        ),\n",
    "        \"average_velocity\": sum(\n",
    "            note.velocity for instrument in midi.instruments for note in instrument.notes\n",
    "        ) / sum(len(instrument.notes) for instrument in midi.instruments),\n",
    "        \"note_density\": sum(len(instrument.notes) for instrument in midi.instruments) / midi.get_end_time(),\n",
    "    }\n",
    "    return performance\n",
    "\n",
    "def get_midi_structural_features(midi, filepath):\n",
    "    sections = {\n",
    "        \"time_signature_changes\": len(midi.time_signature_changes),\n",
    "        \"tempo_changes\": len(midi.get_tempo_changes()[0]),  # Number of tempo changes\n",
    "        \"instrument_usage\": {instrument.name: len(instrument.notes) for instrument in midi.instruments},\n",
    "    }\n",
    "    return sections\n"
   ]
  },
  {
   "cell_type": "code",
   "execution_count": 6,
   "metadata": {
    "tags": []
   },
   "outputs": [
    {
     "ename": "NameError",
     "evalue": "name 'Dict' is not defined",
     "output_type": "error",
     "traceback": [
      "\u001b[1;31m---------------------------------------------------------------------------\u001b[0m",
      "\u001b[1;31mNameError\u001b[0m                                 Traceback (most recent call last)",
      "Cell \u001b[1;32mIn[6], line 7\u001b[0m\n\u001b[0;32m      5\u001b[0m performance_features \u001b[38;5;241m=\u001b[39m {}\n\u001b[0;32m      6\u001b[0m structural_features \u001b[38;5;241m=\u001b[39m {}\n\u001b[1;32m----> 7\u001b[0m dataset_analysis: \u001b[43mDict\u001b[49m[\u001b[38;5;28mstr\u001b[39m, Dict[\u001b[38;5;28mstr\u001b[39m, Any]] \u001b[38;5;241m=\u001b[39m {}\n\u001b[0;32m      9\u001b[0m \u001b[38;5;28;01mfor\u001b[39;00m filepath \u001b[38;5;129;01min\u001b[39;00m filepath_list:\n\u001b[0;32m     10\u001b[0m     \u001b[38;5;28;01mtry\u001b[39;00m:\n",
      "\u001b[1;31mNameError\u001b[0m: name 'Dict' is not defined"
     ]
    }
   ],
   "source": [
    "from pretty_midi import PrettyMIDI\n",
    "# Stores midi file information. Format: { filepath: data }\n",
    "basic_metadata = {}\n",
    "musical_features = {}\n",
    "performance_features = {}\n",
    "structural_features = {}\n",
    "dataset_analysis: Dict[str, Dict[str, Any]] = {}\n",
    "\n",
    "for filepath in filepath_list:\n",
    "    try:\n",
    "        midi = PrettyMIDI(filepath)\n",
    "        basic_metadata[filepath] = get_midi_basic_metadata(midi, filepath)\n",
    "        musical_features[filepath] = get_midi_musical_features(midi, filepath)\n",
    "        performance_features[filepath] = get_midi_performance_features(midi, filepath)\n",
    "        structural_features[filepath] = get_midi_structural_features(midi, filepath)\n",
    "    except Exception as e:\n",
    "        print(f\"Error processing {filepath}: {e}\")\n",
    "    \n",
    "    dataset_analysis[filepath] = {\n",
    "        \"basic_metadata\": basic_metadata.get(filepath, {}),\n",
    "        \"musical_features\": musical_features.get(filepath, {}),\n",
    "        \"performance_features\": performance_features.get(filepath, {}),\n",
    "        \"structural_features\": structural_features.get(filepath, {}),\n",
    "    }\n"
   ]
  },
  {
   "cell_type": "code",
   "execution_count": 7,
   "metadata": {},
   "outputs": [
    {
     "name": "stdout",
     "output_type": "stream",
     "text": [
      "Dataset analysis saved to dataset_analysis.json\n"
     ]
    }
   ],
   "source": [
    "import json\n",
    "\n",
    "# Save dataset analysis to a JSON file\n",
    "output_file: str = \"dataset_analysis.json\"\n",
    "with open(output_file, \"w\") as json_file:\n",
    "    json.dump(dataset_analysis, json_file, indent=4)\n",
    "\n",
    "print(f\"Dataset analysis saved to {output_file}\")"
   ]
  },
  {
   "cell_type": "markdown",
   "metadata": {
    "id": "4pC2zhxoh28e"
   },
   "source": [
    "# Step 1: Import Necessary Libraries"
   ]
  },
  {
   "cell_type": "code",
   "execution_count": 100,
   "metadata": {
    "id": "kslJkw6oh8Il"
   },
   "outputs": [],
   "source": [
    "# We'll use `pandas` to create and manipulate the DataFrame, and `json` to save the final data in JSON format.\n",
    "import pandas as pd\n",
    "import json\n",
    "from typing import Dict, List, Any\n"
   ]
  },
  {
   "cell_type": "markdown",
   "metadata": {
    "id": "lmP06GXziG_a"
   },
   "source": [
    "# Step 2: Load and parse the file"
   ]
  },
  {
   "cell_type": "code",
   "execution_count": 56,
   "metadata": {
    "colab": {
     "base_uri": "https://localhost:8080/",
     "height": 1000
    },
    "id": "nsSBIEzhiM1_",
    "outputId": "1b69659c-2780-4514-fa9e-373157df3ff4"
   },
   "outputs": [
    {
     "name": "stdout",
     "output_type": "stream",
     "text": [
      "Initial DataFrame:\n",
      "677038\n"
     ]
    },
    {
     "data": {
      "text/html": [
       "<div>\n",
       "<style scoped>\n",
       "    .dataframe tbody tr th:only-of-type {\n",
       "        vertical-align: middle;\n",
       "    }\n",
       "\n",
       "    .dataframe tbody tr th {\n",
       "        vertical-align: top;\n",
       "    }\n",
       "\n",
       "    .dataframe thead th {\n",
       "        text-align: right;\n",
       "    }\n",
       "</style>\n",
       "<table border=\"1\" class=\"dataframe\">\n",
       "  <thead>\n",
       "    <tr style=\"text-align: right;\">\n",
       "      <th></th>\n",
       "      <th>track_id</th>\n",
       "      <th>seed_genre</th>\n",
       "      <th>num_labels</th>\n",
       "      <th>labels</th>\n",
       "    </tr>\n",
       "  </thead>\n",
       "  <tbody>\n",
       "    <tr>\n",
       "      <th>0</th>\n",
       "      <td>TRAAAAK128F9318786</td>\n",
       "      <td>Rock</td>\n",
       "      <td>201</td>\n",
       "      <td>{'Rock': 0.6766169, 'Metal': 0.09950249, 'Hard...</td>\n",
       "    </tr>\n",
       "    <tr>\n",
       "      <th>1</th>\n",
       "      <td>TRAAAAV128F421A322</td>\n",
       "      <td>Rock</td>\n",
       "      <td>8</td>\n",
       "      <td>{'Rock': 0.5, 'Punk': 0.5}</td>\n",
       "    </tr>\n",
       "    <tr>\n",
       "      <th>2</th>\n",
       "      <td>TRAAAAW128F429D538</td>\n",
       "      <td>Hip-Hop</td>\n",
       "      <td>133</td>\n",
       "      <td>{'Hip-Hop': 0.48872182, 'Hip-Hop/Rap': 0.27067...</td>\n",
       "    </tr>\n",
       "    <tr>\n",
       "      <th>3</th>\n",
       "      <td>TRAAAAY128F42A73F0</td>\n",
       "      <td>World</td>\n",
       "      <td>1</td>\n",
       "      <td>{'World': 1.0}</td>\n",
       "    </tr>\n",
       "    <tr>\n",
       "      <th>4</th>\n",
       "      <td>TRAAABD128F429CF47</td>\n",
       "      <td>Rock</td>\n",
       "      <td>40</td>\n",
       "      <td>{'Rock': 0.4, 'Rock/Pop': 0.15, 'Oldies': 0.1,...</td>\n",
       "    </tr>\n",
       "  </tbody>\n",
       "</table>\n",
       "</div>"
      ],
      "text/plain": [
       "             track_id seed_genre  num_labels  \\\n",
       "0  TRAAAAK128F9318786       Rock         201   \n",
       "1  TRAAAAV128F421A322       Rock           8   \n",
       "2  TRAAAAW128F429D538    Hip-Hop         133   \n",
       "3  TRAAAAY128F42A73F0      World           1   \n",
       "4  TRAAABD128F429CF47       Rock          40   \n",
       "\n",
       "                                              labels  \n",
       "0  {'Rock': 0.6766169, 'Metal': 0.09950249, 'Hard...  \n",
       "1                         {'Rock': 0.5, 'Punk': 0.5}  \n",
       "2  {'Hip-Hop': 0.48872182, 'Hip-Hop/Rap': 0.27067...  \n",
       "3                                     {'World': 1.0}  \n",
       "4  {'Rock': 0.4, 'Rock/Pop': 0.15, 'Oldies': 0.1,...  "
      ]
     },
     "execution_count": 56,
     "metadata": {},
     "output_type": "execute_result"
    }
   ],
   "source": [
    "file_path = 'msd_genre_classification.cls'  # Replace with your actual file path\n",
    "\n",
    "# Read the file into a list of dictionaries based on the header format\n",
    "data = []\n",
    "with open(file_path, 'r') as file:\n",
    "    for line in file:\n",
    "        # Skip comments and empty lines\n",
    "        if line.startswith('#') or not line.strip():\n",
    "            continue\n",
    "        # Split each line into fields\n",
    "        fields = line.strip().split('\\t')\n",
    "\n",
    "        # Parse the fields into respective columns\n",
    "        track_id = fields[0]\n",
    "        seed_genre = fields[1]\n",
    "        num_labels = int(fields[2])\n",
    "        labels = fields[3:]\n",
    "\n",
    "        # Group labels and their strengths\n",
    "        label_data = {labels[i]: float(labels[i+1]) for i in range(0, len(labels), 2)}\n",
    "\n",
    "        # Append data as a dictionary\n",
    "        data.append({\n",
    "            'track_id': track_id,\n",
    "            'seed_genre': seed_genre,\n",
    "            'num_labels': num_labels,\n",
    "            'labels': label_data\n",
    "        })\n",
    "\n",
    "# Convert the parsed data into a DataFrame\n",
    "df = pd.DataFrame(data)\n",
    "print(\"Initial DataFrame:\")\n",
    "print(len(df))\n",
    "df.head()"
   ]
  },
  {
   "cell_type": "markdown",
   "metadata": {
    "id": "bH7AIMfMiv5k"
   },
   "source": [
    "# Step 3: Identify and sort genres by num_labels\n"
   ]
  },
  {
   "cell_type": "code",
   "execution_count": 57,
   "metadata": {
    "colab": {
     "base_uri": "https://localhost:8080/"
    },
    "id": "Rnlt86JVjvm-",
    "outputId": "48225c5b-1be5-4965-d424-d7147bcacc74"
   },
   "outputs": [
    {
     "name": "stdout",
     "output_type": "stream",
     "text": [
      "677038\n",
      "Number of genres: 6152\n",
      "Number of genres with counts under 50: 6024\n",
      "Number of genres with counts above 10,000: 14\n",
      "Genre Counts:\n",
      " Rock                   261242\n",
      "Pop                     57210\n",
      "Electronic              38235\n",
      "Jazz                    37844\n",
      "Hip-Hop                 31580\n",
      "                        ...  \n",
      "General Spoken              1\n",
      "Reggae/folk/version         1\n",
      "Classic Ska                 1\n",
      "Deep Chill House            1\n",
      "Tanzania                    1\n",
      "Name: seed_genre, Length: 6152, dtype: int64\n"
     ]
    }
   ],
   "source": [
    "# This will allow us to filter genres with sufficient data later.\n",
    "print(len(df))\n",
    "genre_counts = df['seed_genre'].value_counts()\n",
    "num_genres = len(genre_counts)\n",
    "num_genres_under_50 = (genre_counts < 50).sum()\n",
    "num_genres_above_10000 = (genre_counts > 10_000).sum()\n",
    "print(f\"Number of genres: {num_genres}\")\n",
    "print(f\"Number of genres with counts under 50: {num_genres_under_50}\")\n",
    "print(f\"Number of genres with counts above 10,000: {num_genres_above_10000}\")\n",
    "print(\"Genre Counts:\\n\", genre_counts)"
   ]
  },
  {
   "cell_type": "markdown",
   "metadata": {
    "id": "aDUqbPqsi3Di"
   },
   "source": [
    "# Step 4: Filter categories with low couts or unuseal genres"
   ]
  },
  {
   "cell_type": "code",
   "execution_count": 66,
   "metadata": {
    "colab": {
     "base_uri": "https://localhost:8080/"
    },
    "id": "oZTgLS8XjwKb",
    "outputId": "0ed86ebd-dcc4-4cca-f680-47060d7bce2c"
   },
   "outputs": [
    {
     "name": "stdout",
     "output_type": "stream",
     "text": [
      "Number of Big Genres: 14\n",
      "Filtered DataFrame rows for Big Genres: 574269\n",
      "Sample of Filtered DataFrame:\n",
      "             track_id seed_genre  num_labels  \\\n",
      "0  TRAAAAK128F9318786       Rock         201   \n",
      "1  TRAAAAV128F421A322       Rock           8   \n",
      "2  TRAAAAW128F429D538    Hip-Hop         133   \n",
      "3  TRAAAAY128F42A73F0      World           1   \n",
      "4  TRAAABD128F429CF47       Rock          40   \n",
      "\n",
      "                                              labels  \n",
      "0  {'Rock': 0.6766169, 'Metal': 0.09950249, 'Hard...  \n",
      "1                         {'Rock': 0.5, 'Punk': 0.5}  \n",
      "2  {'Hip-Hop': 0.48872182, 'Hip-Hop/Rap': 0.27067...  \n",
      "3                                     {'World': 1.0}  \n",
      "4  {'Rock': 0.4, 'Rock/Pop': 0.15, 'Oldies': 0.1,...  \n",
      "Total genres: 6152\n",
      "Genres with counts under 50: 6024\n",
      "Genres with counts above 10000: 14\n"
     ]
    }
   ],
   "source": [
    "# Threshold for \"big genres\"\n",
    "# 10,000 = 14 Genres , 11,000 = 11 Genres, 13,000 = 9\n",
    "big_genre_threshold = 10_000\n",
    "\n",
    "# Count occurrences of each seed genre\n",
    "genre_counts = df['seed_genre'].value_counts()\n",
    "\n",
    "# Filter big genres\n",
    "big_genres = genre_counts[genre_counts > big_genre_threshold].index\n",
    "big_genres_df = df[df['seed_genre'].isin(big_genres)]\n",
    "\n",
    "print(f\"Number of Big Genres: {len(big_genres)}\")\n",
    "print(f\"Filtered DataFrame rows for Big Genres: {len(big_genres_df)}\")\n",
    "print(\"Sample of Filtered DataFrame:\")\n",
    "print(big_genres_df.head())\n",
    "\n",
    "# Validate the genre counts\n",
    "print(f\"Total genres: {len(genre_counts)}\")\n",
    "print(f\"Genres with counts under 50: {(genre_counts < 50).sum()}\")\n",
    "print(f\"Genres with counts above {big_genre_threshold}: {(genre_counts > big_genre_threshold).sum()}\")"
   ]
  },
  {
   "cell_type": "markdown",
   "metadata": {
    "id": "DFmhVB3mi8V-"
   },
   "source": [
    "# Step 5: Remove songs with less than 10 user labels"
   ]
  },
  {
   "cell_type": "code",
   "execution_count": 75,
   "metadata": {
    "colab": {
     "base_uri": "https://localhost:8080/"
    },
    "id": "hVdIp6_OjwtU",
    "outputId": "510da5f2-3e61-4d82-9b7f-59e122f57521"
   },
   "outputs": [
    {
     "name": "stdout",
     "output_type": "stream",
     "text": [
      "Filtered DataFrame with songs having 5 or more labels: 339099 songs\n",
      "Filtered DataFrame after removing 'other' genre: 324807 songs\n",
      "Sample of the filtered DataFrame:\n",
      "             track_id seed_genre  num_labels  \\\n",
      "0  TRAAAAK128F9318786       Rock         201   \n",
      "2  TRAAAAW128F429D538    Hip-Hop         133   \n",
      "4  TRAAABD128F429CF47       Rock          40   \n",
      "8  TRAAAED128E0783FAB       Jazz        2227   \n",
      "9  TRAAAEF128F4273421       Rock         181   \n",
      "\n",
      "                                              labels  \n",
      "0  {'Rock': 0.6766169, 'Metal': 0.09950249, 'Hard...  \n",
      "2  {'Hip-Hop': 0.48872182, 'Hip-Hop/Rap': 0.27067...  \n",
      "4  {'Rock': 0.4, 'Rock/Pop': 0.15, 'Oldies': 0.1,...  \n",
      "8  {'Jazz': 0.6897171, 'Pop': 0.061517738, 'Gener...  \n",
      "9  {'Rock': 0.45303866, 'New Wave': 0.13812155, '...  \n"
     ]
    }
   ],
   "source": [
    "# Filter to include only songs with 10 or more labels\n",
    "min_song_threshold = 10\n",
    "big_genres_df_10_plus_songs = big_genres_df[big_genres_df['num_labels'] >= min_song_threshold]\n",
    "print(f\"Filtered DataFrame with songs having 5 or more labels: {big_genres_df_10_plus_songs.shape[0]} songs\")\n",
    "\n",
    "# Remove songs with 'other' as the seed genre (if any)\n",
    "explicit_genre_exclude = ['other', 'Electronica/Dance', 'Soundtrack']\n",
    "big_genres_df_final = big_genres_df_10_plus_songs[big_genres_df_10_plus_songs['seed_genre'].isin(explicit_genre_exclude) == False]\n",
    "print(f\"Filtered DataFrame after removing 'other' genre: {big_genres_df_final.shape[0]} songs\")\n",
    "\n",
    "# Display a sample of the filtered DataFrame\n",
    "print(\"Sample of the filtered DataFrame:\")\n",
    "print(big_genres_df_final.head())\n"
   ]
  },
  {
   "cell_type": "markdown",
   "metadata": {
    "id": "UATNegRdcLdf"
   },
   "source": [
    "# Step 6: Clean the labels for each songs (Remove low probability and unused genres)"
   ]
  },
  {
   "cell_type": "code",
   "execution_count": 76,
   "metadata": {
    "colab": {
     "base_uri": "https://localhost:8080/"
    },
    "id": "1wtKfhoScXxa",
    "outputId": "78bfbf43-ead3-4e6f-c88b-1f5d19c1c544"
   },
   "outputs": [
    {
     "name": "stdout",
     "output_type": "stream",
     "text": [
      "DataFrame after cleaning labels: 312781 songs\n",
      "Sample of cleaned labels:\n",
      "             track_id                                   labels\n",
      "0  TRAAAAK128F9318786                      {'Rock': 0.6766169}\n",
      "2  TRAAAAW128F429D538                  {'Hip-Hop': 0.48872182}\n",
      "4  TRAAABD128F429CF47              {'Rock': 0.4, 'Pop': 0.075}\n",
      "8  TRAAAED128E0783FAB  {'Jazz': 0.6897171, 'Pop': 0.061517738}\n",
      "9  TRAAAEF128F4273421   {'Rock': 0.45303866, 'Pop': 0.0718232}\n"
     ]
    },
    {
     "name": "stderr",
     "output_type": "stream",
     "text": [
      "/Users/viduragaram/opt/anaconda3/envs/cs4710/lib/python3.6/site-packages/ipykernel_launcher.py:22: SettingWithCopyWarning: \n",
      "A value is trying to be set on a copy of a slice from a DataFrame.\n",
      "Try using .loc[row_indexer,col_indexer] = value instead\n",
      "\n",
      "See the caveats in the documentation: https://pandas.pydata.org/pandas-docs/stable/user_guide/indexing.html#returning-a-view-versus-a-copy\n"
     ]
    }
   ],
   "source": [
    "# Define a probability threshold for keeping genres\n",
    "probability_threshold = 0.01\n",
    "\n",
    "def clean_labels(label_data, threshold, valid_genres):\n",
    "    \"\"\"\n",
    "    Remove low-probability genres from the label dictionary.\n",
    "\n",
    "    Parameters:\n",
    "        label_data (dict): Dictionary of genres and their probabilities.\n",
    "        threshold (float): Minimum probability to retain a genre.\n",
    "        valid_genres (list[str]): List of valid genres to retain.\n",
    "\n",
    "    Returns:\n",
    "        dict: Cleaned label dictionary with high-probability genres.\n",
    "    \"\"\"\n",
    "    return {genre: prob for genre, prob in label_data.items() if prob >= threshold and genre in valid_genres}\n",
    "\n",
    "# Apply the cleaning function to the 'labels' column\n",
    "big_genres_df_final['labels'] = big_genres_df_final['labels'].apply(\n",
    "    clean_labels,\n",
    "    threshold=probability_threshold,\n",
    "    valid_genres=list(big_genres)\n",
    ")\n",
    "\n",
    "# Remove rows where the cleaned 'labels' dictionary is empty (i.e., no genres meet the threshold)\n",
    "big_genres_df_final = big_genres_df_final[big_genres_df_final['labels'].apply(bool)]\n",
    "\n",
    "print(f\"DataFrame after cleaning labels: {big_genres_df_final.shape[0]} songs\")\n",
    "print(\"Sample of cleaned labels:\")\n",
    "print(big_genres_df_final[['track_id', 'labels']].head())\n"
   ]
  },
  {
   "cell_type": "markdown",
   "metadata": {},
   "source": [
    "Install basic depencies"
   ]
  },
  {
   "cell_type": "markdown",
   "metadata": {},
   "source": [
    "Setup functions and variables"
   ]
  },
  {
   "cell_type": "code",
   "execution_count": 108,
   "metadata": {},
   "outputs": [],
   "source": [
    "# Base directory for your dataset\n",
    "base_dir = \"lmd_matched_clean\"\n",
    "\n",
    "# Dictionaries to store mappings\n",
    "genre_to_filepaths: Dict[str, List[str]] = {}\n",
    "filepath_to_genre: Dict[str, str] = {}\n",
    "filepath_list: List[str] = []\n",
    "\n",
    "# Iterate through the directories and populate mappings\n",
    "for genre in os.listdir(base_dir):\n",
    "    genre_folder: str = os.path.join(base_dir, genre)\n",
    "    if os.path.isdir(genre_folder):\n",
    "        genre_to_filepaths[genre] = []\n",
    "        for file in os.listdir(genre_folder):\n",
    "            if file.endswith(\".mid\"):\n",
    "                filepath: str = os.path.join(genre_folder, file)\n",
    "                genre_to_filepaths[genre].append(filepath)\n",
    "                filepath_to_genre[filepath] = genre\n",
    "                filepath_list.append(filepath)"
   ]
  },
  {
   "cell_type": "code",
   "execution_count": 95,
   "metadata": {
    "tags": []
   },
   "outputs": [
    {
     "name": "stderr",
     "output_type": "stream",
     "text": [
      "IOPub data rate exceeded.\n",
      "The Jupyter server will temporarily stop sending output\n",
      "to the client in order to avoid crashing it.\n",
      "To change this limit, set the config variable\n",
      "`--ServerApp.iopub_data_rate_limit`.\n",
      "\n",
      "Current values:\n",
      "ServerApp.iopub_data_rate_limit=1000000.0 (bytes/sec)\n",
      "ServerApp.rate_limit_window=3.0 (secs)\n",
      "\n"
     ]
    }
   ],
   "source": [
    "from itertools import islice\n",
    "\n",
    "small_section = dict(islice(genre_to_filepaths.items(), 10))\n",
    "print(small_section)"
   ]
  },
  {
   "cell_type": "markdown",
   "metadata": {},
   "source": [
    "# Save midi file data analysis to json"
   ]
  },
  {
   "cell_type": "markdown",
   "metadata": {
    "id": "p24Q1Rhti_Nx",
    "tags": []
   },
   "source": [
    "# Save the cleaned data to JSON and .cls file"
   ]
  },
  {
   "cell_type": "code",
   "execution_count": 102,
   "metadata": {
    "colab": {
     "base_uri": "https://localhost:8080/"
    },
    "id": "0lGBSyeVjxRC",
    "outputId": "4ea8f81d-fc29-4c8e-fd0b-4d327d660131"
   },
   "outputs": [
    {
     "name": "stdout",
     "output_type": "stream",
     "text": [
      "Data saved to cleaned_data.json\n"
     ]
    },
    {
     "ename": "KeyboardInterrupt",
     "evalue": "",
     "output_type": "error",
     "traceback": [
      "\u001b[0;31m---------------------------------------------------------------------------\u001b[0m",
      "\u001b[0;31mKeyboardInterrupt\u001b[0m                         Traceback (most recent call last)",
      "\u001b[0;32m<ipython-input-102-ea4e9bf28810>\u001b[0m in \u001b[0;36m<module>\u001b[0;34m\u001b[0m\n\u001b[1;32m      8\u001b[0m \u001b[0mcls_output_path\u001b[0m \u001b[0;34m=\u001b[0m \u001b[0;34m'cleaned_data.cls'\u001b[0m\u001b[0;34m\u001b[0m\u001b[0;34m\u001b[0m\u001b[0m\n\u001b[1;32m      9\u001b[0m \u001b[0;32mwith\u001b[0m \u001b[0mopen\u001b[0m\u001b[0;34m(\u001b[0m\u001b[0mcls_output_path\u001b[0m\u001b[0;34m,\u001b[0m \u001b[0;34m'w'\u001b[0m\u001b[0;34m)\u001b[0m \u001b[0;32mas\u001b[0m \u001b[0mcls_file\u001b[0m\u001b[0;34m:\u001b[0m\u001b[0;34m\u001b[0m\u001b[0;34m\u001b[0m\u001b[0m\n\u001b[0;32m---> 10\u001b[0;31m     \u001b[0;32mfor\u001b[0m \u001b[0m_\u001b[0m\u001b[0;34m,\u001b[0m \u001b[0mrow\u001b[0m \u001b[0;32min\u001b[0m \u001b[0mbig_genres_df_final\u001b[0m\u001b[0;34m.\u001b[0m\u001b[0miterrows\u001b[0m\u001b[0;34m(\u001b[0m\u001b[0;34m)\u001b[0m\u001b[0;34m:\u001b[0m\u001b[0;34m\u001b[0m\u001b[0;34m\u001b[0m\u001b[0m\n\u001b[0m\u001b[1;32m     11\u001b[0m         \u001b[0mline\u001b[0m \u001b[0;34m=\u001b[0m \u001b[0;34mf\"{row['track_id']}\\t{row['seed_genre']}\\t{row['num_labels']}\"\u001b[0m\u001b[0;34m\u001b[0m\u001b[0;34m\u001b[0m\u001b[0m\n\u001b[1;32m     12\u001b[0m         \u001b[0;32mfor\u001b[0m \u001b[0mlabel\u001b[0m\u001b[0;34m,\u001b[0m \u001b[0mstrength\u001b[0m \u001b[0;32min\u001b[0m \u001b[0mrow\u001b[0m\u001b[0;34m[\u001b[0m\u001b[0;34m'labels'\u001b[0m\u001b[0;34m]\u001b[0m\u001b[0;34m.\u001b[0m\u001b[0mitems\u001b[0m\u001b[0;34m(\u001b[0m\u001b[0;34m)\u001b[0m\u001b[0;34m:\u001b[0m\u001b[0;34m\u001b[0m\u001b[0;34m\u001b[0m\u001b[0m\n",
      "\u001b[0;32m~/opt/anaconda3/envs/cs4710/lib/python3.6/site-packages/pandas/core/frame.py\u001b[0m in \u001b[0;36miterrows\u001b[0;34m(self)\u001b[0m\n\u001b[1;32m   1012\u001b[0m         \u001b[0mklass\u001b[0m \u001b[0;34m=\u001b[0m \u001b[0mself\u001b[0m\u001b[0;34m.\u001b[0m\u001b[0m_constructor_sliced\u001b[0m\u001b[0;34m\u001b[0m\u001b[0;34m\u001b[0m\u001b[0m\n\u001b[1;32m   1013\u001b[0m         \u001b[0;32mfor\u001b[0m \u001b[0mk\u001b[0m\u001b[0;34m,\u001b[0m \u001b[0mv\u001b[0m \u001b[0;32min\u001b[0m \u001b[0mzip\u001b[0m\u001b[0;34m(\u001b[0m\u001b[0mself\u001b[0m\u001b[0;34m.\u001b[0m\u001b[0mindex\u001b[0m\u001b[0;34m,\u001b[0m \u001b[0mself\u001b[0m\u001b[0;34m.\u001b[0m\u001b[0mvalues\u001b[0m\u001b[0;34m)\u001b[0m\u001b[0;34m:\u001b[0m\u001b[0;34m\u001b[0m\u001b[0;34m\u001b[0m\u001b[0m\n\u001b[0;32m-> 1014\u001b[0;31m             \u001b[0ms\u001b[0m \u001b[0;34m=\u001b[0m \u001b[0mklass\u001b[0m\u001b[0;34m(\u001b[0m\u001b[0mv\u001b[0m\u001b[0;34m,\u001b[0m \u001b[0mindex\u001b[0m\u001b[0;34m=\u001b[0m\u001b[0mcolumns\u001b[0m\u001b[0;34m,\u001b[0m \u001b[0mname\u001b[0m\u001b[0;34m=\u001b[0m\u001b[0mk\u001b[0m\u001b[0;34m)\u001b[0m\u001b[0;34m\u001b[0m\u001b[0;34m\u001b[0m\u001b[0m\n\u001b[0m\u001b[1;32m   1015\u001b[0m             \u001b[0;32myield\u001b[0m \u001b[0mk\u001b[0m\u001b[0;34m,\u001b[0m \u001b[0ms\u001b[0m\u001b[0;34m\u001b[0m\u001b[0;34m\u001b[0m\u001b[0m\n\u001b[1;32m   1016\u001b[0m \u001b[0;34m\u001b[0m\u001b[0m\n",
      "\u001b[0;32m~/opt/anaconda3/envs/cs4710/lib/python3.6/site-packages/pandas/core/series.py\u001b[0m in \u001b[0;36m__init__\u001b[0;34m(self, data, index, dtype, name, copy, fastpath)\u001b[0m\n\u001b[1;32m    327\u001b[0m                 \u001b[0mdata\u001b[0m \u001b[0;34m=\u001b[0m \u001b[0msanitize_array\u001b[0m\u001b[0;34m(\u001b[0m\u001b[0mdata\u001b[0m\u001b[0;34m,\u001b[0m \u001b[0mindex\u001b[0m\u001b[0;34m,\u001b[0m \u001b[0mdtype\u001b[0m\u001b[0;34m,\u001b[0m \u001b[0mcopy\u001b[0m\u001b[0;34m,\u001b[0m \u001b[0mraise_cast_failure\u001b[0m\u001b[0;34m=\u001b[0m\u001b[0;32mTrue\u001b[0m\u001b[0;34m)\u001b[0m\u001b[0;34m\u001b[0m\u001b[0;34m\u001b[0m\u001b[0m\n\u001b[1;32m    328\u001b[0m \u001b[0;34m\u001b[0m\u001b[0m\n\u001b[0;32m--> 329\u001b[0;31m                 \u001b[0mdata\u001b[0m \u001b[0;34m=\u001b[0m \u001b[0mSingleBlockManager\u001b[0m\u001b[0;34m.\u001b[0m\u001b[0mfrom_array\u001b[0m\u001b[0;34m(\u001b[0m\u001b[0mdata\u001b[0m\u001b[0;34m,\u001b[0m \u001b[0mindex\u001b[0m\u001b[0;34m)\u001b[0m\u001b[0;34m\u001b[0m\u001b[0;34m\u001b[0m\u001b[0m\n\u001b[0m\u001b[1;32m    330\u001b[0m \u001b[0;34m\u001b[0m\u001b[0m\n\u001b[1;32m    331\u001b[0m         \u001b[0mgeneric\u001b[0m\u001b[0;34m.\u001b[0m\u001b[0mNDFrame\u001b[0m\u001b[0;34m.\u001b[0m\u001b[0m__init__\u001b[0m\u001b[0;34m(\u001b[0m\u001b[0mself\u001b[0m\u001b[0;34m,\u001b[0m \u001b[0mdata\u001b[0m\u001b[0;34m)\u001b[0m\u001b[0;34m\u001b[0m\u001b[0;34m\u001b[0m\u001b[0m\n",
      "\u001b[0;32m~/opt/anaconda3/envs/cs4710/lib/python3.6/site-packages/pandas/core/internals/managers.py\u001b[0m in \u001b[0;36mfrom_array\u001b[0;34m(cls, array, index)\u001b[0m\n\u001b[1;32m   1576\u001b[0m         \u001b[0mConstructor\u001b[0m \u001b[0;32mfor\u001b[0m \u001b[0;32mif\u001b[0m \u001b[0mwe\u001b[0m \u001b[0mhave\u001b[0m \u001b[0man\u001b[0m \u001b[0marray\u001b[0m \u001b[0mthat\u001b[0m \u001b[0;32mis\u001b[0m \u001b[0;32mnot\u001b[0m \u001b[0myet\u001b[0m \u001b[0ma\u001b[0m \u001b[0mBlock\u001b[0m\u001b[0;34m.\u001b[0m\u001b[0;34m\u001b[0m\u001b[0;34m\u001b[0m\u001b[0m\n\u001b[1;32m   1577\u001b[0m         \"\"\"\n\u001b[0;32m-> 1578\u001b[0;31m         \u001b[0mblock\u001b[0m \u001b[0;34m=\u001b[0m \u001b[0mmake_block\u001b[0m\u001b[0;34m(\u001b[0m\u001b[0marray\u001b[0m\u001b[0;34m,\u001b[0m \u001b[0mplacement\u001b[0m\u001b[0;34m=\u001b[0m\u001b[0mslice\u001b[0m\u001b[0;34m(\u001b[0m\u001b[0;36m0\u001b[0m\u001b[0;34m,\u001b[0m \u001b[0mlen\u001b[0m\u001b[0;34m(\u001b[0m\u001b[0mindex\u001b[0m\u001b[0;34m)\u001b[0m\u001b[0;34m)\u001b[0m\u001b[0;34m,\u001b[0m \u001b[0mndim\u001b[0m\u001b[0;34m=\u001b[0m\u001b[0;36m1\u001b[0m\u001b[0;34m)\u001b[0m\u001b[0;34m\u001b[0m\u001b[0;34m\u001b[0m\u001b[0m\n\u001b[0m\u001b[1;32m   1579\u001b[0m         \u001b[0;32mreturn\u001b[0m \u001b[0mcls\u001b[0m\u001b[0;34m(\u001b[0m\u001b[0mblock\u001b[0m\u001b[0;34m,\u001b[0m \u001b[0mindex\u001b[0m\u001b[0;34m)\u001b[0m\u001b[0;34m\u001b[0m\u001b[0;34m\u001b[0m\u001b[0m\n\u001b[1;32m   1580\u001b[0m \u001b[0;34m\u001b[0m\u001b[0m\n",
      "\u001b[0;32m~/opt/anaconda3/envs/cs4710/lib/python3.6/site-packages/pandas/core/internals/blocks.py\u001b[0m in \u001b[0;36mmake_block\u001b[0;34m(values, placement, klass, ndim, dtype)\u001b[0m\n\u001b[1;32m   2735\u001b[0m     \u001b[0;32mif\u001b[0m \u001b[0mklass\u001b[0m \u001b[0;32mis\u001b[0m \u001b[0;32mNone\u001b[0m\u001b[0;34m:\u001b[0m\u001b[0;34m\u001b[0m\u001b[0;34m\u001b[0m\u001b[0m\n\u001b[1;32m   2736\u001b[0m         \u001b[0mdtype\u001b[0m \u001b[0;34m=\u001b[0m \u001b[0mdtype\u001b[0m \u001b[0;32mor\u001b[0m \u001b[0mvalues\u001b[0m\u001b[0;34m.\u001b[0m\u001b[0mdtype\u001b[0m\u001b[0;34m\u001b[0m\u001b[0;34m\u001b[0m\u001b[0m\n\u001b[0;32m-> 2737\u001b[0;31m         \u001b[0mklass\u001b[0m \u001b[0;34m=\u001b[0m \u001b[0mget_block_type\u001b[0m\u001b[0;34m(\u001b[0m\u001b[0mvalues\u001b[0m\u001b[0;34m,\u001b[0m \u001b[0mdtype\u001b[0m\u001b[0;34m)\u001b[0m\u001b[0;34m\u001b[0m\u001b[0;34m\u001b[0m\u001b[0m\n\u001b[0m\u001b[1;32m   2738\u001b[0m \u001b[0;34m\u001b[0m\u001b[0m\n\u001b[1;32m   2739\u001b[0m     \u001b[0;32melif\u001b[0m \u001b[0mklass\u001b[0m \u001b[0;32mis\u001b[0m \u001b[0mDatetimeTZBlock\u001b[0m \u001b[0;32mand\u001b[0m \u001b[0;32mnot\u001b[0m \u001b[0mis_datetime64tz_dtype\u001b[0m\u001b[0;34m(\u001b[0m\u001b[0mvalues\u001b[0m\u001b[0;34m.\u001b[0m\u001b[0mdtype\u001b[0m\u001b[0;34m)\u001b[0m\u001b[0;34m:\u001b[0m\u001b[0;34m\u001b[0m\u001b[0;34m\u001b[0m\u001b[0m\n",
      "\u001b[0;32m~/opt/anaconda3/envs/cs4710/lib/python3.6/site-packages/pandas/core/internals/blocks.py\u001b[0m in \u001b[0;36mget_block_type\u001b[0;34m(values, dtype)\u001b[0m\n\u001b[1;32m   2691\u001b[0m     \u001b[0mvtype\u001b[0m \u001b[0;34m=\u001b[0m \u001b[0mdtype\u001b[0m\u001b[0;34m.\u001b[0m\u001b[0mtype\u001b[0m\u001b[0;34m\u001b[0m\u001b[0;34m\u001b[0m\u001b[0m\n\u001b[1;32m   2692\u001b[0m \u001b[0;34m\u001b[0m\u001b[0m\n\u001b[0;32m-> 2693\u001b[0;31m     \u001b[0;32mif\u001b[0m \u001b[0mis_sparse\u001b[0m\u001b[0;34m(\u001b[0m\u001b[0mdtype\u001b[0m\u001b[0;34m)\u001b[0m\u001b[0;34m:\u001b[0m\u001b[0;34m\u001b[0m\u001b[0;34m\u001b[0m\u001b[0m\n\u001b[0m\u001b[1;32m   2694\u001b[0m         \u001b[0;31m# Need this first(ish) so that Sparse[datetime] is sparse\u001b[0m\u001b[0;34m\u001b[0m\u001b[0;34m\u001b[0m\u001b[0;34m\u001b[0m\u001b[0m\n\u001b[1;32m   2695\u001b[0m         \u001b[0mcls\u001b[0m \u001b[0;34m=\u001b[0m \u001b[0mExtensionBlock\u001b[0m\u001b[0;34m\u001b[0m\u001b[0;34m\u001b[0m\u001b[0m\n",
      "\u001b[0;32m~/opt/anaconda3/envs/cs4710/lib/python3.6/site-packages/pandas/core/dtypes/common.py\u001b[0m in \u001b[0;36mis_sparse\u001b[0;34m(arr)\u001b[0m\n\u001b[1;32m    264\u001b[0m     \u001b[0mReturns\u001b[0m\u001b[0;31m \u001b[0m\u001b[0;31m`\u001b[0m\u001b[0;32mFalse\u001b[0m\u001b[0;31m`\u001b[0m \u001b[0;32mif\u001b[0m \u001b[0mthe\u001b[0m \u001b[0mparameter\u001b[0m \u001b[0mhas\u001b[0m \u001b[0mmore\u001b[0m \u001b[0mthan\u001b[0m \u001b[0mone\u001b[0m \u001b[0mdimension\u001b[0m\u001b[0;34m.\u001b[0m\u001b[0;34m\u001b[0m\u001b[0;34m\u001b[0m\u001b[0m\n\u001b[1;32m    265\u001b[0m     \"\"\"\n\u001b[0;32m--> 266\u001b[0;31m     \u001b[0;32mfrom\u001b[0m \u001b[0mpandas\u001b[0m\u001b[0;34m.\u001b[0m\u001b[0mcore\u001b[0m\u001b[0;34m.\u001b[0m\u001b[0marrays\u001b[0m\u001b[0;34m.\u001b[0m\u001b[0msparse\u001b[0m \u001b[0;32mimport\u001b[0m \u001b[0mSparseDtype\u001b[0m\u001b[0;34m\u001b[0m\u001b[0;34m\u001b[0m\u001b[0m\n\u001b[0m\u001b[1;32m    267\u001b[0m \u001b[0;34m\u001b[0m\u001b[0m\n\u001b[1;32m    268\u001b[0m     \u001b[0mdtype\u001b[0m \u001b[0;34m=\u001b[0m \u001b[0mgetattr\u001b[0m\u001b[0;34m(\u001b[0m\u001b[0marr\u001b[0m\u001b[0;34m,\u001b[0m \u001b[0;34m\"dtype\"\u001b[0m\u001b[0;34m,\u001b[0m \u001b[0marr\u001b[0m\u001b[0;34m)\u001b[0m\u001b[0;34m\u001b[0m\u001b[0;34m\u001b[0m\u001b[0m\n",
      "\u001b[0;32m~/opt/anaconda3/envs/cs4710/lib/python3.6/importlib/_bootstrap.py\u001b[0m in \u001b[0;36m_handle_fromlist\u001b[0;34m(module, fromlist, import_, recursive)\u001b[0m\n",
      "\u001b[0;31mKeyboardInterrupt\u001b[0m: "
     ]
    }
   ],
   "source": [
    "# We'll save the final DataFrame in two formats as requested.\n",
    "json_output_path = 'cleaned_data.json'\n",
    "with open(json_output_path, 'w') as json_file:\n",
    "    json.dump(big_genres_df_final.to_dict(orient='records'), json_file, indent=2)\n",
    "print(f\"Data saved to {json_output_path}\")\n",
    "\n",
    "# CLS format (tab-separated as per original format)\n",
    "cls_output_path = 'cleaned_data.cls'\n",
    "with open(cls_output_path, 'w') as cls_file:\n",
    "    for _, row in big_genres_df_final.iterrows():\n",
    "        line = f\"{row['track_id']}\\t{row['seed_genre']}\\t{row['num_labels']}\"\n",
    "        for label, strength in row['labels'].items():\n",
    "            line += f\"\\t{label}\\t{strength}\"\n",
    "        cls_file.write(line + '\\n')\n",
    "print(f\"Data saved to {cls_output_path}\")"
   ]
  },
  {
   "cell_type": "markdown",
   "metadata": {},
   "source": [
    "# Process Original lmd_matched folder and move to lmd_matched_clean (with genres)\n"
   ]
  },
  {
   "cell_type": "code",
   "execution_count": 77,
   "metadata": {},
   "outputs": [],
   "source": [
    "import os\n",
    "import json\n",
    "import shutil\n",
    "import pretty_midi\n",
    "\n",
    "# Paths\n",
    "aligned_folder = 'lmd_matched'\n",
    "match_scores_path = 'match_scores.json'\n",
    "destination_folder = 'lmd_matched_clean'"
   ]
  },
  {
   "cell_type": "code",
   "execution_count": 78,
   "metadata": {},
   "outputs": [],
   "source": [
    "# Load match scores\n",
    "with open(match_scores_path, 'r') as f:\n",
    "    match_scores = json.load(f)\n",
    "\n",
    "# Initialize metadata storage\n",
    "metadata_list = []\n",
    "numOfExceptions: int = 0\n",
    "\n",
    "# Function to generate directory paths\n",
    "def msd_id_to_dirs(track_id: str) -> str:\n",
    "    \"\"\"Generate the directory structure for a track ID.\"\"\"\n",
    "    return os.path.join(track_id[2], track_id[3], track_id[4], track_id)\n",
    "\n",
    "# Function to get MIDI file path\n",
    "def get_midi_path(track_id: str, midi_md5: str) -> str:\n",
    "    \"\"\"Generate the full path to the MIDI file.\"\"\"\n",
    "    return os.path.join(aligned_folder, msd_id_to_dirs(track_id), midi_md5 + '.mid')\n",
    "\n",
    "# Function to create new filename\n",
    "def get_cleaned_midi_new_filename(track_id: str, midi_md5: str, genre: str) -> str:\n",
    "    \"\"\"Generate the cleaned filename in the format {track_id}_{midi_md5}_{genre}.mid.\"\"\"\n",
    "    return f\"{track_id}_{midi_md5}_{genre}.mid\"\n"
   ]
  },
  {
   "cell_type": "code",
   "execution_count": 79,
   "metadata": {},
   "outputs": [],
   "source": [
    "# DON'T RUN UNLESS YOU WANT TO PARSE AND COPY FROM ORIGINIAL DATASET TO THE CLEAN"
   ]
  },
  {
   "cell_type": "code",
   "execution_count": 84,
   "metadata": {
    "tags": []
   },
   "outputs": [],
   "source": [
    "# Process files\n",
    "# DON'T RUN UNLESS YOU WANT TO PARSE AND COPY FROM ORIGINAL DATASET TO THE CLEAN\n",
    "for _, row in big_genres_df_final.iterrows():\n",
    "    track_id = row['track_id']\n",
    "    genre = row['seed_genre']\n",
    "    \n",
    "    # Check if track_id exists in match_scores\n",
    "    if track_id in match_scores:\n",
    "        for midi_md5_filename, score in match_scores[track_id].items():\n",
    "            if score > 0.5:\n",
    "                # Locate MIDI file\n",
    "                try:\n",
    "                    midi_path = get_midi_path(track_id, midi_md5_filename)\n",
    "                    if os.path.exists(midi_path):\n",
    "                        # Copy to genre folder\n",
    "                        new_midi_filename = get_cleaned_midi_new_filename(track_id, midi_md5_filename, genre)\n",
    "                        genre_folder = os.path.join(destination_folder, genre)\n",
    "                        os.makedirs(genre_folder, exist_ok=True)  # Ensure the genre folder exists\n",
    "                        destination_path = os.path.join(genre_folder, new_midi_filename)\n",
    "                        shutil.copy(midi_path, destination_path)\n",
    "                        # print(f\"Copied {midi_path} to {destination_path}\")\n",
    "                except Exception as ex:\n",
    "                    print(f\"Error processing file {midi_md5_filename}: {ex}\")\n",
    "                    numOfExceptions += 1"
   ]
  },
  {
   "cell_type": "code",
   "execution_count": 86,
   "metadata": {},
   "outputs": [
    {
     "name": "stdout",
     "output_type": "stream",
     "text": [
      "185\n"
     ]
    }
   ],
   "source": [
    "print(numOfExceptions)"
   ]
  }
 ],
 "metadata": {
  "colab": {
   "provenance": []
  },
  "kernelspec": {
   "display_name": "venv",
   "language": "python",
   "name": "python3"
  },
  "language_info": {
   "codemirror_mode": {
    "name": "ipython",
    "version": 3
   },
   "file_extension": ".py",
   "mimetype": "text/x-python",
   "name": "python",
   "nbconvert_exporter": "python",
   "pygments_lexer": "ipython3",
   "version": "3.11.4"
  }
 },
 "nbformat": 4,
 "nbformat_minor": 4
}
