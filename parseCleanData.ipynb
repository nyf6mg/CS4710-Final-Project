{
 "cells": [
  {
   "cell_type": "markdown",
   "metadata": {},
   "source": [
    "Running through all the files"
   ]
  },
  {
   "cell_type": "code",
   "execution_count": null,
   "metadata": {
    "vscode": {
     "languageId": "plaintext"
    }
   },
   "outputs": [],
   "source": [
    "import os\n",
    "\n",
    "# Define the parent directory path\n",
    "parent_directory = \"lmd_matched_clean\"\n",
    "\n",
    "# Iterate through all subdirectories and their files\n",
    "for folder in os.listdir(parent_directory):\n",
    "    folder_path = os.path.join(parent_directory, folder)\n",
    "    \n",
    "    if os.path.isdir(folder_path):  # Check if it's a folder\n",
    "        print(f\"Entering folder: {folder}\")\n",
    "        for filename in os.listdir(folder_path):\n",
    "            file_path = os.path.join(folder_path, filename)\n",
    "            if os.path.isfile(file_path):  # Ensure it's a file\n",
    "                print(f\"Processing file: {filename} in folder: {folder}\")\n",
    "                # Add your file processing logic here\n"
   ]
  }
 ],
 "metadata": {
  "language_info": {
   "name": "python"
  }
 },
 "nbformat": 4,
 "nbformat_minor": 2
}
