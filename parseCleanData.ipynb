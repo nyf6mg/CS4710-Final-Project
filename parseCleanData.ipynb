{
 "cells": [
  {
   "cell_type": "markdown",
   "metadata": {},
   "source": [
    "Running through all the files"
   ]
  },
  {
   "cell_type": "code",
   "execution_count": null,
   "metadata": {},
   "outputs": [],
   "source": [
    "import os\n",
    "\n",
    "# Define the parent directory path\n",
    "parent_directory = \"lmd_matched_clean\"\n",
    "\n",
    "# Iterate through all subdirectories and their files\n",
    "for folder in os.listdir(parent_directory):\n",
    "    folder_path = os.path.join(parent_directory, folder)\n",
    "    \n",
    "    if os.path.isdir(folder_path):  # Check if it's a folder\n",
    "        print(f\"Entering folder: {folder}\")\n",
    "        for filename in os.listdir(folder_path):\n",
    "            file_path = os.path.join(folder_path, filename)\n",
    "            if os.path.isfile(file_path):  # Ensure it's a file\n",
    "                print(f\"Processing file: {filename} in folder: {folder}\")\n",
    "                # Add your file processing logic here\n"
   ]
  },
  {
   "cell_type": "code",
   "execution_count": null,
   "metadata": {},
   "outputs": [],
   "source": [
    "from typing import Dict, List, Any\n",
    "import os\n",
    "# Base directory for your dataset\n",
    "base_dir = \"lmd_matched_clean\"\n",
    "\n",
    "# Dictionaries to store mappings\n",
    "genre_to_filepaths: Dict[str, List[str]] = {}\n",
    "filepath_to_genre: Dict[str, str] = {}\n",
    "filepath_list: List[str] = []\n",
    "\n",
    "# Iterate through the directories and populate mappings\n",
    "for genre in os.listdir(base_dir):\n",
    "    genre_folder: str = os.path.join(base_dir, genre)\n",
    "    if os.path.isdir(genre_folder):\n",
    "        genre_to_filepaths[genre] = []\n",
    "        for file in os.listdir(genre_folder):\n",
    "            if file.endswith(\".mid\"):\n",
    "                filepath: str = os.path.join(genre_folder, file)\n",
    "                genre_to_filepaths[genre].append(filepath)\n",
    "                filepath_to_genre[filepath] = genre\n",
    "                filepath_list.append(filepath)\n",
    "\n",
    "# save each to json file\n",
    "# import json\n",
    "# with open(\"genre_to_filepaths.json\", \"w\") as f:\n",
    "#     json.dump(genre_to_filepaths, f)\n",
    "    \n",
    "# with open(\"filepath_to_genre.json\", \"w\") as f:\n",
    "#     json.dump(filepath_to_genre, f)\n",
    "\n",
    "# # Save the list of filepaths\n",
    "# with open(\"filepath_list.json\", \"w\") as f:\n",
    "#     json.dump(filepath_list, f)"
   ]
  },
  {
   "cell_type": "markdown",
   "metadata": {},
   "source": [
    "Processing midi file functions"
   ]
  },
  {
   "cell_type": "code",
   "execution_count": null,
   "metadata": {},
   "outputs": [],
   "source": [
    "# Basic Metadata\n",
    "def get_midi_basic_metadata(midi, filepath):\n",
    "    metadata = {\n",
    "        \"genre\": filepath_to_genre[filepath],\n",
    "        \"number_of_tracks\": len(midi.instruments),\n",
    "        \"duration_seconds\": midi.get_end_time(),\n",
    "        \"file_size_kb\": os.path.getsize(filepath) / 1024,\n",
    "    }\n",
    "    return metadata\n",
    "    \n",
    "def get_midi_musical_features(midi, filepath):\n",
    "    features = {\n",
    "        \"tempo\": midi.estimate_tempo(),\n",
    "        \"key_signatures\": [str(key) for key in midi.key_signature_changes],\n",
    "        \"time_signatures\": [str(ts) for ts in midi.time_signature_changes],\n",
    "        \"pitch_range\": (\n",
    "            min(note.pitch for instrument in midi.instruments for note in instrument.notes),\n",
    "            max(note.pitch for instrument in midi.instruments for note in instrument.notes),\n",
    "        ),\n",
    "    }\n",
    "    return features\n",
    "    \n",
    "    \n",
    "def get_midi_performance_features(midi, filepath):\n",
    "    performance = {\n",
    "        \"velocity_range\": (\n",
    "            min(note.velocity for instrument in midi.instruments for note in instrument.notes),\n",
    "            max(note.velocity for instrument in midi.instruments for note in instrument.notes),\n",
    "        ),\n",
    "        \"average_velocity\": sum(\n",
    "            note.velocity for instrument in midi.instruments for note in instrument.notes\n",
    "        ) / sum(len(instrument.notes) for instrument in midi.instruments),\n",
    "        \"note_density\": sum(len(instrument.notes) for instrument in midi.instruments) / midi.get_end_time(),\n",
    "    }\n",
    "    return performance\n",
    "\n",
    "def get_midi_structural_features(midi, filepath):\n",
    "    sections = {\n",
    "        \"time_signature_changes\": len(midi.time_signature_changes),\n",
    "        \"tempo_changes\": len(midi.get_tempo_changes()[0]),  # Number of tempo changes\n",
    "        \"instrument_usage\": {instrument.name: len(instrument.notes) for instrument in midi.instruments},\n",
    "    }\n",
    "    return sections\n"
   ]
  },
  {
   "cell_type": "code",
   "execution_count": null,
   "metadata": {},
   "outputs": [],
   "source": [
    "from pretty_midi import PrettyMIDI\n",
    "# Stores midi file information. Format: { filepath: data }\n",
    "basic_metadata = {}\n",
    "musical_features = {}\n",
    "performance_features = {}\n",
    "structural_features = {}\n",
    "dataset_analysis: Dict[str, Dict[str, Any]] = {}\n",
    "\n",
    "for filepath in filepath_list:\n",
    "    try:\n",
    "        midi = PrettyMIDI(filepath)\n",
    "        basic_metadata[filepath] = get_midi_basic_metadata(midi, filepath)\n",
    "        musical_features[filepath] = get_midi_musical_features(midi, filepath)\n",
    "        performance_features[filepath] = get_midi_performance_features(midi, filepath)\n",
    "        structural_features[filepath] = get_midi_structural_features(midi, filepath)\n",
    "    except Exception as e:\n",
    "        print(f\"Error processing {filepath}: {e}\")\n",
    "    \n",
    "    dataset_analysis[filepath] = {\n",
    "        \"basic_metadata\": basic_metadata.get(filepath, {}),\n",
    "        \"musical_features\": musical_features.get(filepath, {}),\n",
    "        \"performance_features\": performance_features.get(filepath, {}),\n",
    "        \"structural_features\": structural_features.get(filepath, {}),\n",
    "    }\n"
   ]
  }
 ],
 "metadata": {
  "kernelspec": {
   "display_name": "Python 3",
   "language": "python",
   "name": "python3"
  },
  "language_info": {
   "codemirror_mode": {
    "name": "ipython",
    "version": 3
   },
   "file_extension": ".py",
   "mimetype": "text/x-python",
   "name": "python",
   "nbconvert_exporter": "python",
   "pygments_lexer": "ipython3",
   "version": "3.9.10"
  }
 },
 "nbformat": 4,
 "nbformat_minor": 2
}
